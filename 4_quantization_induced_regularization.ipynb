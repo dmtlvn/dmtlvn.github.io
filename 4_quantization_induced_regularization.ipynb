{
 "cells": [
  {
   "cell_type": "markdown",
   "id": "eb79eba9",
   "metadata": {},
   "source": [
    "# Quantization-Induced Regularization\n",
    "\n",
    "During our [minifloat adventure](3_wonderful_minifloats.ipynb) it became clear that low-precision arithmetic produces quantization noise so strong that it must change statistical properties of ML models. This led me to a thought: in the simplest case of the linear regression how this quantization noise would affect the model? Here's a small note on that. *(Hint is in the title)*."
   ]
  },
  {
   "cell_type": "markdown",
   "id": "6aebb50d",
   "metadata": {},
   "source": [
    "# Formulation\n",
    "\n",
    "In general, modern computers cannot represent *true* real numbers in all their Platonic nature, they are always quantized. Quantization makes a true value $x$ unobservable. A quantized value $q$ is not a real number, it is just a label for an infinite-sized equivalence class consisting of all numbers from some neighborhood $[q-a, q+b)$. When provided a $q$ the true number can be anything from this range and without any prior knowledge any number can result in $q$ class equally likely. We can model this uncertainty by a random variable $\\varepsilon \\sim U[-a, b]$ independent of $q$:\n",
    "\n",
    "$$x = q + \\varepsilon$$\n",
    "\n",
    "Parameters $a$ and $b$ depend on the quantization scheme used. One may point out that quantization isn't random, and it surely isn't. But the point is not in the randomness of values but in the *distribution* of the quantization errors: without any prior knowledge taking a random number from the equivalent class represented by $q$ results in a uniform distribution.\n",
    "\n",
    "A linear regression is formulated as:\n",
    "\n",
    "$$ y = x^T w,\\quad (x, y) \\in D $$\n",
    "\n",
    "Modifying it to account for quantization noise would produce the following equation:\n",
    "\n",
    "$$ y + \\varepsilon_y = \\left( x + \\varepsilon_x \\right)^T w $$\n",
    "\n",
    "Parameter vector $w$ is unmodified because it is unobserved and estimated based on data, which is quantized. So let's see what this means for integer and floating-point quantization."
   ]
  },
  {
   "cell_type": "markdown",
   "id": "ffeba900",
   "metadata": {},
   "source": [
    "# Integer Quantization\n",
    "\n",
    "Under integer quantization $\\varepsilon \\sim U\\left[-\\frac{d}{2}, \\frac{d}{2}\\right]$ where $d$ is a quantization step. We can notice that:\n",
    "\n",
    "$$ \\mathbb{E}[\\varepsilon] = 0 $$\n",
    "$$ \\sigma_\\varepsilon^2 = \\frac{1}{12} d^2 $$\n",
    "\n",
    "Now recall a least-squared loss function for linear regression:\n",
    "\n",
    "$$ L(w) = \\mathbb{E}_{D} \\left[ \\left( y + \\varepsilon_y - \\left( x + \\varepsilon_x \\right)^T w \\right)^2 \\right] $$\n",
    "\n",
    "Let's perform some algebra real quick:\n",
    "\n",
    "$$ z^2 = \\left( \\left( y - x^T w \\right) + \\varepsilon_y - \\varepsilon_x^T w \\right)^2 = \\\\\n",
    "    = \\left( y - x^T w \\right)^2 + \\varepsilon_y^2 + w^T \\varepsilon_x \\varepsilon_x^T w + 2 \\left( y - x^T w \\right) \\varepsilon_y  - 2 \\left( y - x^T w \\right) \\varepsilon_x^T w - 2 \\varepsilon_y \\varepsilon_x^T w $$\n",
    "    \n",
    "Now let's take and expectation with respect to $\\varepsilon$ and use the fact $\\varepsilon_x$ and $\\varepsilon_y$ are independent of each other and anything else:\n",
    "\n",
    "$$ \\mathbb{E}_{\\varepsilon} \\left[ z^2 \\right] \n",
    "    = \\left( y - x^T w \\right)^2 \n",
    "        + \\mathbb{E} \\left[ \\varepsilon_y^2 \\right]\n",
    "        + w^T \\mathbb{E} \\left[ \\varepsilon_x \\varepsilon_x^T \\right] w + \\\\\n",
    "        + 2 \\left( y - x^T w \\right) \\mathbb{E} \\left[ \\varepsilon_y \\right] \n",
    "        - 2 \\left( y - x^T w \\right) \\mathbb{E} \\left[ \\varepsilon_x \\right]^T w \n",
    "        - 2 \\mathbb{E} \\left[ \\varepsilon_y \\right] \\mathbb{E} \\left[ \\varepsilon_x \\right]^T w = \\\\\n",
    "    = \\left( y - x^T w \\right)^2 + \\sigma^2 + \\sigma^2 w^T w = \\left( y - x^T w \\right)^2 + \\sigma^2 + \\sigma^2 \\| w \\|^2 $$\n",
    "    \n",
    "Putting that back into the loss function produces:\n",
    "\n",
    "$$ L(w) = \\mathbb{E}_{D} \\left[ z^2 \\right] = \\mathbb{E}_{D} \\left[ \\left( y - x^T w \\right)^2 \\right] + \\sigma^2 \\| w \\|^2 + \\sigma^2 $$\n",
    "\n",
    "Adding a constant to a loss function doesn't change the minimum, so the $\\sigma^2$ term can be dropped:\n",
    "\n",
    "$$ L(w) = \\mathbb{E}_{D} \\left[ \\left( y - x^T w \\right)^2 \\right] + \\sigma^2 \\| w \\|^2 $$\n",
    "\n",
    "Which is the same least-squares problem but with $L_2$ regularization with regularization parameter:\n",
    "\n",
    "$$ \\lambda = \\frac{1}{12} d^2 $$\n",
    "\n",
    "This is kinda expected as $L_2$ regularization is equivalent to adding zero-mean noise to the regressors, which we precisely did by our quantization scheme."
   ]
  },
  {
   "cell_type": "markdown",
   "id": "dd906396",
   "metadata": {},
   "source": [
    "# Floating-Point Quantization\n",
    "\n",
    "Quantization noise distribution under FP quantization is a bit more complex. Given a floating point representation $x = M \\cdot 2^E$ the distribution is $\\varepsilon \\sim U \\left[ -\\frac{a}{2}, \\frac{a}{2} \\right]$, where:\n",
    "\n",
    "$$ a = p \\cdot 2^{\\lceil \\log_2 x \\rceil} $$\n",
    "\n",
    "Here $p$ is the minimal representable normal FP number. This distribution has zero mean and variance $\\sigma^2 = \\frac{1}{12} p^2 4^{\\lceil \\log_2 x \\rceil}$\n",
    "\n",
    "This is because the absolute error of a floating point number doubles with each power of two. This exact formulation is unwieldy because of its nonlinear dependence on $x$, which will complicate further calculations quite a bit. Instead, we're gonna pretend that $ \\lceil \\log_2 x \\rceil \\approx \\log_2 x $ and use the following approximation:\n",
    "\n",
    "$$ a \\approx p \\cdot x $$\n",
    "\n",
    "Now we can decompose this distribution as $\\varepsilon = x \\cdot \\delta$, where $ \\delta \\sim U \\left[ -\\frac{p}{2}, \\frac{p}{2} \\right]$ and is now independent of $x$. This transforms our quantized linear regression formula into this:\n",
    "\n",
    "$$ y + y \\delta_y = \\left( x + x \\delta_x \\right)^T w $$ \n",
    "\n",
    "The loss function now looks like this:\n",
    "\n",
    "$$ L(w) = \\mathbb{E}_{D} \\left[ \\left( y + y \\delta_y - \\left( x + x \\delta_x \\right)^T w \\right)^2 \\right] $$\n",
    "\n",
    "We're gonna expand the brackets and take the expectation with respect to $\\delta$ the same as before, so I leave it to you as an exercise. After doing all that we obtain the following:\n",
    "\n",
    "$$ \\mathbb{E}_{\\varepsilon} \\left[ z^2 \\right] = \\left( y - x^T w \\right)^2 + \\sigma^2 y^2 + \\sigma^2 w^T x x^T w $$\n",
    "\n",
    "Putting that back into the loss function gives:\n",
    "\n",
    "$$ L(w) = \\mathbb{E}_{D} \\left[ z^2 \\right] \n",
    "    = \\mathbb{E}_{D} \\left[ \\left( y - x^T w \\right)^2 \\right] + \\sigma^2 \\mathbb{E}_{D} \\left[ y^2 \\right] + \\sigma^2 w^T \\mathbb{E}_{D} \\left[ x x^T \\right] w = \\\\\n",
    "    = \\mathbb{E}_{D} \\left[ \\left( y - x^T w \\right)^2 \\right] + \\sigma^2 \\mathbb{E}_{D} \\left[ y^2 \\right] + \\sigma^2 w^T \\Sigma_X w $$\n",
    "    \n",
    "Notice that we can always transform our problem by standardizing $y$ as well as whitening $x$, so $\\mathbb{E}_{D} \\left[ y^2 \\right] = 1$ and $\\Sigma_X = I$. And again, by noticing that addition of a constant doesn't change the minimum of a function, we get:\n",
    "\n",
    "$$ L(w) = \\mathbb{E}_{D} \\left[ \\left( y - x^T w \\right)^2 \\right] + \\sigma^2 \\| w \\|^2 $$\n",
    "\n",
    "So again we get an $L_2$-regularized model but under the assumption that the data is whitened and normalized. The regularization strength in this case bacomes:\n",
    "\n",
    "$$ \\lambda = \\frac{1}{12} p^2 $$\n",
    "\n",
    "I was looking for ways to verify these results, and the *proper* way to do this is to fit two linear models - the one on the \"clean\" data with $L_2$ prior, and another one on the noisy data without $L_2$ prior - and run a test for coefficient equality. But unfortunately statistical tests for equality of linear regression coefficients I managed to find aren't suited for this kind of a problem. Wald test compares regression coefficients to a hypothesized value, not another parameter. Chow test requires the same model to be fitted on multiple data groups but we have different ones. Z-test requires independent data samples for two models, but our data is definitely not independent. So I decided to just brute-force my way out of this by running extensive simulations to demonstrate that the difference between two parameter vectors converges to zero, which it does indeed:"
   ]
  },
  {
   "cell_type": "code",
   "execution_count": 311,
   "id": "8df959b0",
   "metadata": {},
   "outputs": [
    {
     "name": "stderr",
     "output_type": "stream",
     "text": [
      "100%|██████████████████████████████████████████████████████████████████████████████████| 10/10 [00:09<00:00,  1.06it/s]\n"
     ]
    },
    {
     "data": {
      "text/plain": [
       "5.690064795791926e-05"
      ]
     },
     "execution_count": 311,
     "metadata": {},
     "output_type": "execute_result"
    }
   ],
   "source": [
    "import numpy as np\n",
    "from sklearn.linear_model import Ridge, LinearRegression\n",
    "from sklearn.decomposition import PCA\n",
    "from tqdm import tqdm\n",
    "\n",
    "np.random.seed(42)\n",
    "\n",
    "DATA_ITER = 10\n",
    "DATA_SIZE = 1000\n",
    "DATA_DIM = 10\n",
    "\n",
    "NOISE_ITER = 1000\n",
    "NOISE_SIGMA = 1e-1\n",
    "ALPHA = 1000 * NOISE_SIGMA**2\n",
    "\n",
    "def generate_data(n, d):\n",
    "    X = PCA(whiten = True).fit_transform(np.random.randn(n, d))\n",
    "    w = np.random.randn(d)\n",
    "    y = np.dot(X, w)\n",
    "    y = (y - y.mean()) / y.std()\n",
    "    return X, y\n",
    "\n",
    "def average_model_over_noise(X, y, sigma, n):\n",
    "    coef = []\n",
    "    for _ in range(n):\n",
    "        Z = X + sigma*X*np.random.randn(*X.shape)\n",
    "        estimate = LinearRegression(fit_intercept = False).fit(Z, y).coef_\n",
    "        coef.append(estimate)\n",
    "    coef = np.stack(coef).mean(axis = 0)\n",
    "    return coef\n",
    "\n",
    "error_norm = []\n",
    "for i in range(DATA_ITER):\n",
    "    X, y = generate_data(DATA_SIZE, DATA_DIM)\n",
    "    coef_reg = Ridge(alpha = ALPHA, fit_intercept = False).fit(X, y).coef_\n",
    "    coef_noise = average_model_over_noise(X, y, NOISE_SIGMA, NOISE_ITER)\n",
    "    error_norm.append(np.linalg.norm(coef_reg - coef_noise))\n",
    "    \n",
    "np.std(error_norm)"
   ]
  },
  {
   "cell_type": "markdown",
   "id": "57fc10c3",
   "metadata": {},
   "source": [
    "# Implications\n",
    "\n",
    "This implicit regularization doesn't manifest itself unless there are some extreme conditions. For example, even standard FP32 numbers produce this effect, but it is really tiny. The minimal normal FP32 number is ~10<sup>-38</sup>, which makes the regularization parameter about ~10<sup>-77</sup> give or take. But for half-precision numbers it would be ~10<sup>-10</sup> already. Where it becomes really prominent is at integer quantization over large ranges and low-precision FP quantization. \n",
    "\n",
    "Let's consider an 8-bit integer quantizer with range $R$. The quantization step is equal to $d = \\frac{1}{256} R$ and regularization strength therefore being $\\lambda = \\frac{1}{3072} R^2$. So even a range of 1 will have regularization strength comparable to that used in practice. \n",
    "\n",
    "The same is true for low-precision floating-point numbers. An FP8 number (in a reasonable configuration) would induce regularization of order ~10<sup>-5</sup> which is on a lower side of values used in many papers. But FP4 numbers raise it to ~0.01 which is kinda significant. \n",
    "\n",
    "It should be noted that at such low precision the approximation for the quantization noise distribution we made earlier is very inaccurate so the exact numbers are almost certainly different. But as a sanity check I ran a quick test by fitting a model to \"true\" FP32 data and then to the same data but quantized down to FP4 precision. I then compared the coefficient vectors between the two and observed a consistent 1.5% decrease of the norm for the quantized version which is exactly what $L_2$ regularization does. "
   ]
  },
  {
   "cell_type": "markdown",
   "id": "d3d3927a",
   "metadata": {},
   "source": [
    "# Conclusion\n",
    "\n",
    "Today we've explored the impact of an aggressive quantization on \"learning\" properties of a linear regression. We've established analytically that a linear model fitted to a quantized data is $L_2$-regularized in relation to the *\"true\"* data, meaning that the norm of the coefficient vector for a quantized model is smaller. We've also established a relation between quantization accuracy and regularization strength, which while being mostly negligible can become pretty significant at extremely low precisions. \n",
    "\n",
    "Unfortunately, it is unclear at the moment if there's a regularization effect of quantization in a deep learning setting, where all these FP8s, FP4s and INT8s make more sense, so I guess it's a topic for a future post. Have a good night."
   ]
  }
 ],
 "metadata": {
  "celltoolbar": "Tags",
  "kernelspec": {
   "display_name": "Python 3 (ipykernel)",
   "language": "python",
   "name": "python3"
  },
  "language_info": {
   "codemirror_mode": {
    "name": "ipython",
    "version": 3
   },
   "file_extension": ".py",
   "mimetype": "text/x-python",
   "name": "python",
   "nbconvert_exporter": "python",
   "pygments_lexer": "ipython3",
   "version": "3.9.12"
  }
 },
 "nbformat": 4,
 "nbformat_minor": 5
}
