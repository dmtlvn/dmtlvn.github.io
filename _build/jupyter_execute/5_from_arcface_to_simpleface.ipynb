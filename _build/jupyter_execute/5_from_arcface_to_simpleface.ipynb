{
 "cells": [
  {
   "cell_type": "code",
   "execution_count": 1,
   "id": "2ba64d99",
   "metadata": {
    "tags": [
     "remove-cell"
    ]
   },
   "outputs": [],
   "source": [
    "import warnings\n",
    "warnings.filterwarnings(\"ignore\")\n",
    "\n",
    "from PIL import Image\n",
    "import numpy as np\n",
    "import matplotlib.pyplot as plt\n",
    "%matplotlib inline"
   ]
  },
  {
   "cell_type": "markdown",
   "id": "a952d4a6",
   "metadata": {},
   "source": [
    "# From ArcFace to SimpleFace\n",
    "\n",
    "*Jun 12, 2023*\n",
    "\n",
    "---------------------------------------------------\n",
    "\n",
    "Once, while working on a face swapping project I was using [ArcFace](https://arxiv.org/abs/1801.07698) as an identity estimator. The key problem with face swapping is finding the trade-off between identity information (face shape) and attributes like pose, expression, illumination etc. and the resulting quality depends a lot on the quality of the pre-trained identity estimator. So I was naturally looking into ways to improve ours. I wanted to clean identity embeddings of all the irrelevant attribute information, which means a tighter intra-class grouping. So I was looking at the loss and thinking and this is what came out."
   ]
  },
  {
   "cell_type": "markdown",
   "id": "be0cc3aa",
   "metadata": {},
   "source": [
    "# ArcFace Primer\n",
    "\n",
    "ArcFace is still a workhorse in many face-related AI applications despite its respectable age due to availability and decent quality of pretrained models. It came as an improvement to a whole line of angular margin face recognition models like SphereFace and CosineFace. It formulates the task of face recognition not as a metric learning problem, but as a classification task with target classes being face identities and a specially designed loss function. It consists of a linear layer with some trickery. \n",
    "\n",
    "The ArcFace loss is parameterized by a weight matrix $W$ of *\"anchor\"* vectors for each identity/class. This weight matrix is multiplied by an embedding vector $x$. From school we know that:\n",
    "\n",
    "$$ W_i^T x_j = \\|W_i\\| \\|x_j\\| \\cos(\\theta_i) $$\n",
    "\n",
    "where $\\theta_i$ is the angle between vectors $W_i$ and $x_j$. It was shown many times that optimizing for this dot product directly is inefficient as inter-class separation gets worse and a lot of irrelevant noise and variance leak from the data into embeddings. Putting face embeddings on a hypersphere and optimizing for an angle between vectors is a better strategy. Getting the angle is easy:\n",
    "\n",
    "$$ \\theta_i = \\arccos \\left( \\frac{W_i^T x_j}{ \\|W_i\\| \\|x_j\\|} \\right) $$\n",
    "\n",
    "What ArcFace proposes is to add a constant margin $m$ to the angle between the class sample and its corresponding anchor vector precisely to enforce clearer inter-class separation. That's it. The rest of the loss function is plain old softmax with the cross-entropy:\n",
    "\n",
    "$$ L = - \\log \\frac{e^{ s \\cos \\left( \\theta_{y_i} + m \\right)}}{e^{ s \\cos \\left( \\theta_{y_i} + m \\right)} + \\sum_{j\\neq y_i} e^{ s \\cos \\left( \\theta_j\\right)}} $$\n",
    "\n",
    "Here $s$ is a scaling factor which plays the role of the softmax temperature, essentially, and $y_i$ is the *index* of the target class. Seems simple and intuitive enough, but can we make it even simpler?"
   ]
  },
  {
   "cell_type": "markdown",
   "id": "16ac9290",
   "metadata": {},
   "source": [
    "# Stripped to the Bone\n",
    "\n",
    "While reviewing ArcFace paper I zoomed into a softmax logits plot (Fig. 4b):\n",
    "\n",
    "```{image} assets/from_arcface_to_simpleface/logits_cut.png\n",
    ":alt: logits-cut\n",
    ":width: 520px\n",
    ":height: 400px\n",
    ":align: center\n",
    "```\n",
    "\n",
    "And I have so many questions about it! Like, what's this? What is the point of this graph? These are just some squiggly lines. What is the reader supposed to make from them? Why do they only show us the interval between 20 and 100 degrees? What about angles below 20 and above 100 degrees? \n",
    "\n",
    "This useless piece of visual noise exists for the sole purpose of being there. So here's a bit blurry but full plot which I found in this [nice article](https://laniakea2018.wordpress.com/2018/06/16/lecture-9-arcface-additive-angular-margin-loss-for-deep-face-recognition/):\n",
    "\n",
    "```{image} assets/from_arcface_to_simpleface/logits_full.png\n",
    ":alt: logits-full\n",
    ":width: 520px\n",
    ":height: 400px\n",
    ":align: center\n",
    "```\n",
    "\n",
    "Now this is how you do plots! We can now see the full range of angles and immediately make some observations.\n",
    "\n",
    "**Observation 1.** *All* of these functions have critical points somewhere besides the actual optimum. This may not be a big deal, but it is kinda bad taste, IMHO. A proper well-behaved loss function should have one and only critical point - at the optimum and have a good reason for every single extra one. \n",
    "\n",
    "**Observation 2.** ArcFace logits aren't even monotonic. They have a local optimum at 180 degrees. This can make somebody have a really bad day, I'd say.\n",
    "\n",
    "**Observation 3.** ArcFace logits are the only function which has *non-zero* slope at 0 degrees. Now that's interesting.\n",
    "\n",
    "In practice they add some corrections to ArcFace (so-called *easy* margin and *hard* margin) which change the shape of the \"tail\" of the logits but they don't get rid of the abovementioned problems."
   ]
  },
  {
   "cell_type": "markdown",
   "id": "ab7f4190",
   "metadata": {},
   "source": [
    "Let's think of the ArcFace a bit. The graph of the logits doesn't have a continuation to the left because the dot product gives you the angle along the shortest arc which is always between 0 and $\\pi$. This means that a non-zero derivative of logits at 0 produces non-zero updates to both $W_i$ and $x_j$ no matter how close they are. Compare this to Softmax logits, for example, which have a zero-derivative at 0 degrees and gradient updates gradually die out when vectors get close. Softmax here is like $L_2$-distance and ArcFace is like $L_1$-distance, but on a sphere. This explains why plain softmax creates embeddings with blurry inter-class boundaries while ArcFace manages to achieve sharp separation. \n",
    "\n",
    "For the same reason the term *\"margin\"* cannot be really applied to the $m$ parameter of the ArcFace loss. It could be called a margin if there were negative angles available. In that case logits could go past zero and then converge at an angle $\\theta = -m$ thus creating a *margin*. But angles are clipped at zero, and when the logit goes beyond it, the direction of the trajectory is just flipped back, so it constantly jiggles around zero. \n",
    "\n",
    "> From this perspective we can see that CosineFace is completely useless, as the only thing it does is adds a constant to a dot product, which does not have *any* impact on the gradients flowing through the logits, just adds a constant scaling factor. Like, literally. Here's CosFace loss:\n",
    ">\n",
    "> $$ L = - \\log \\frac{e^{ s \\left( \\cos \\left( \\theta_{y_i} \\right) - m \\right)}}{e^{ s \\left( \\cos \\left( \\theta_{y_i} \\right) - m \\right)} + \\sum_{j\\neq y_i} e^{ s \\cos \\left( \\theta_j\\right)}} \n",
    "    = - \\log e^{-sm} \\frac{e^{ s \\cos \\left( \\theta_{y_i} \\right)}}{ e^{-sm} e^{s \\cos \\left( \\theta_{y_i} \\right)} + \\sum_{j\\neq y_i} e^{ s \\cos \\left( \\theta_j\\right)}} $$\n",
    ">    \n",
    "> which for all intents and purposes is:\n",
    ">\n",
    "> $$ L = - \\log \\frac{e^{ s \\cos \\left( \\theta_{y_i} \\right)}}{ C e^{s \\cos \\left( \\theta_{y_i} \\right)} + \\sum_{j\\neq y_i} e^{ s \\cos \\left( \\theta_j\\right)}} $$\n",
    ">\n",
    "> The softmax sum is taken over all the classes, and re-weighting a single of thousands terms should ring a bell that something's not right here. It could make a bit more sense if a margin $m$ was dependent on the number of classes, so its effect is preserved, but they actually address this issue in the [paper](https://arxiv.org/pdf/1801.09414.pdf) and say that bigger margin reduces training stability (big surprise!). Let's note, however, that this logic is not applicable to ArcFace, as angular margin changes gradients non-linearly due to the presence of an arccos function. But I digress.\n",
    "\n",
    "Where was I? Ah, ArcFace doesn't have a zero gradient at zero. And you know, which logit function also doesn't have zero gradient at zero? Angle function. Here it is in all its glory:"
   ]
  },
  {
   "cell_type": "code",
   "execution_count": 2,
   "id": "62f7cf9b",
   "metadata": {
    "tags": [
     "remove-input"
    ]
   },
   "outputs": [
    {
     "data": {
      "image/png": "[encoded data removed]",
      "text/plain": [
       "<Figure size 400x300 with 1 Axes>"
      ]
     },
     "metadata": {
      "filenames": {
       "image/png": "C:\\Users\\dmtle\\Projects\\neural-pasta\\_build\\jupyter_execute\\5_from_arcface_to_simpleface_5_0.png"
      }
     },
     "output_type": "display_data"
    }
   ],
   "source": [
    "plt.figure(figsize = (4,3))\n",
    "plt.title(\"Angle Logits\")\n",
    "plt.plot(np.rad2deg(np.linspace(0, np.pi)), -np.linspace(0, np.pi), 'k-', lw = 3)\n",
    "plt.xticks(np.arange(0, 181, 30))\n",
    "plt.yticks(np.linspace(-np.pi, 0, 7), [\"-$\\pi$\", \"-$5\\pi/6$\", \"-$2\\pi/3$\", \"-$\\pi/2$\", \"-$\\pi/3$\", \"-$\\pi/6$\", 0])\n",
    "plt.ylabel(\"Target Logit\")\n",
    "plt.xlabel(\"$\\\\theta$\")\n",
    "plt.xlim(0, 180)\n",
    "plt.ylim(-np.pi, 0)\n",
    "plt.grid(alpha = 0.5)"
   ]
  },
  {
   "cell_type": "markdown",
   "id": "ee7cbd21",
   "metadata": {},
   "source": [
    "It has several advantages:\n",
    "1. It does not have any shady local minima\n",
    "2. It does not have any critical points whatsoever\n",
    "3. It has constant derivative everywhere, as well as at zero\n",
    "4. It is almost 3x more computationally efficient\n",
    "5. Intuitively it makes much more sense, as we're directly optimizing for the angle between vectors\n",
    "\n",
    "The final loss function with angular logits would be:\n",
    "\n",
    "$$ L = - \\log \\frac{e^{ -s \\theta_{y_i}}}{ \\sum_j e^{ -s \\theta_j }} $$\n",
    "\n",
    "where $\\theta_i = \\arccos \\left( \\dfrac{W_i^T x_j}{\\|W_i\\| \\|x_j\\|} \\right)$. Note that we now don't need to apply any margins selectively as in ArcFace, CosFace or whatever. I'd call this loss a SimpleFace. "
   ]
  },
  {
   "cell_type": "markdown",
   "id": "f859a006",
   "metadata": {},
   "source": [
    "# Experiments\n",
    "\n",
    "To verify that angular logits achieve the same so-called \"large margin\" separation I've ran the same toy experiment they use in papers. I took 10 identities with the most images from the LFW dataset, sampled 50 photos from each identity totalling at 500 RGB image 128x128. I then took an ImageNet-pretrained ResNet18 and fine-tuned it on these 500 images using ArcFace and SimpleFace. Training both models using a 2D feature actually was pretty tricky. In such low dimensions some corner cases arise which you generally wouldn't care about with embedding dimension of 512. One such corner case is appearance of local minima in the gaps between $W_i$ vectors. Let me illustrate:"
   ]
  },
  {
   "cell_type": "code",
   "execution_count": 3,
   "id": "814dfb79",
   "metadata": {
    "scrolled": false,
    "tags": [
     "remove-input"
    ]
   },
   "outputs": [
    {
     "data": {
      "image/png": "[encoded data removed]",
      "text/plain": [
       "<Figure size 700x350 with 2 Axes>"
      ]
     },
     "metadata": {
      "filenames": {
       "image/png": "C:\\Users\\dmtle\\Projects\\neural-pasta\\_build\\jupyter_execute\\5_from_arcface_to_simpleface_8_0.png"
      }
     },
     "output_type": "display_data"
    }
   ],
   "source": [
    "import torch\n",
    "import torch.nn.functional as ptf\n",
    "\n",
    "class AngularLoss(torch.nn.Module):\n",
    "    \n",
    "    def __init__(self, dimension, num_identities, logits):\n",
    "        super().__init__()\n",
    "        self.dimension = dimension\n",
    "        self.num_identities = num_identities\n",
    "        self.logits = logits\n",
    "        self.weight = torch.nn.Parameter(torch.randn(num_identities, dimension))\n",
    "        \n",
    "    def forward(self, embeddings, targets, margin = 0.5, scale = 1, eps = 1e-7):\n",
    "        embeddings = ptf.normalize(embeddings, p = 2, dim = 1)\n",
    "        weights = ptf.normalize(self.weight, p = 2, dim = 1)\n",
    "        cosine = ptf.linear(embeddings, weights).clamp(-1 + eps, 1 - eps)\n",
    "\n",
    "        one_hot_targets = torch.zeros_like(cosine)\n",
    "        one_hot_targets.scatter_(1, targets.view(-1, 1).long(), 1)\n",
    "        \n",
    "        angles = torch.acos(cosine)\n",
    "        if self.logits == \"arcface\":\n",
    "            marginal_cosine = torch.cos(angles + margin)\n",
    "            logits = cosine * (1 - one_hot_targets) + marginal_cosine * one_hot_targets\n",
    "        elif self.logits == \"simpleface\":\n",
    "            logits = -angles\n",
    "        else:\n",
    "            raise Exception(\"Unknown loss type\")\n",
    "        \n",
    "        probs = ptf.softmax(scale*logits, dim = 1)\n",
    "        loss = ptf.binary_cross_entropy(probs, one_hot_targets) * self.num_identities\n",
    "        return loss\n",
    "\n",
    "loss = AngularLoss(dimension = 2, num_identities = 3, logits = 'arcface').cpu()\n",
    "loss.weight.data = torch.tensor([[1, 0], [-0.5, 0.866], [-0.5, -0.866]])\n",
    "phi = 2*np.pi / 3 * torch.tensor([0, -1.0, 1.0])\n",
    "data = torch.stack([torch.cos(phi), torch.sin(phi)]).T.cpu()\n",
    "data = data.repeat_interleave(100, dim = 0)\n",
    "data = data + 0.07*torch.randn_like(data)\n",
    "data = ptf.normalize(data, dim = 1)\n",
    "\n",
    "z = []\n",
    "t = np.linspace(0, np.pi, 101)\n",
    "for theta in t:\n",
    "    data[0, 0] = torch.cos(phi[0] + theta)\n",
    "    data[0, 1] = torch.sin(phi[0] + theta)\n",
    "    y = loss(data, torch.arange(3), scale = 1)\n",
    "    z.append(float(y))\n",
    "\n",
    "plt.figure(figsize = (7, 3.5))\n",
    "plt.subplot(1,2,1)\n",
    "plt.title('ArcFace Loss')\n",
    "plt.plot(t, z, 'k-')\n",
    "plt.xlabel(\"$\\\\theta$\")\n",
    "plt.xticks(np.linspace(np.pi, 0, 7), [\"$\\pi$\", \"$5\\pi/6$\", \"$2\\pi/3$\", \"$\\pi/2$\", \"$\\pi/3$\", \"$\\pi/6$\", 0])\n",
    "plt.scatter([0, np.pi], [z[0], z[-1]], color = 'black')\n",
    "plt.grid(alpha = 0.5)\n",
    "\n",
    "plt.subplot(1,2,2)\n",
    "plt.title(\"Embedding Space\")\n",
    "plt.scatter(data[:,0], data[:,1], color = 'black', alpha = 0.1, s = 5)\n",
    "plt.scatter(loss.weight.data[:,0], loss.weight.data[:,1], c = ['red', 'lime', 'blue'])\n",
    "plt.grid(alpha = 0.5)\n",
    "plt.xticks([-1, -0.5, 0, 0.5, 1])\n",
    "plt.yticks([-1, -0.5, 0, 0.5, 1])\n",
    "plt.xlim(-1.1, 1.1)\n",
    "plt.ylim(-1.1, 1.1)\n",
    "\n",
    "plt.tight_layout()"
   ]
  },
  {
   "cell_type": "markdown",
   "id": "e59bfe4b",
   "metadata": {},
   "source": [
    "Left plot shows how the loss function depends on a single sample. Because softmax creates both attractive and repulsive \"forces\" between intra- and inter-class samples, there's a possibility to have a point of equilibrium when repulsive forces balance each other in the gaps due to symmetry. Depending on the data, this can cause two $W_i$ vectors to collapse into one of such local minima if repulsion from the neighbors is stronger than between these two vectors. What really sucks is that this problem occurs near when weight vectors are distributed uniformly, which happens at near the optimum, when everything is almost settled. This problem goes away in higher dimensions, however, where there are much more symmetries which should align to balance everything just right. Actually in 3D already this problem practically goes away.\n",
    "\n",
    "The angular margin demonstrates the same tight clustering in these toy experiments as ArcFace. At lower dimensions it converges slightly faster, but speed of convergence evens out at higher dimensions, as random vectors are mostly perpendicular there and don't fall into problem regions in the tail of ArcFace logits:"
   ]
  },
  {
   "cell_type": "code",
   "execution_count": 4,
   "id": "a24f6f33",
   "metadata": {
    "tags": [
     "remove-input"
    ]
   },
   "outputs": [
    {
     "data": {
      "image/png": "[encoded data removed]",
      "text/plain": [
       "<PIL.Image.Image image mode=RGB size=746x374>"
      ]
     },
     "execution_count": 4,
     "metadata": {
      "filenames": {
       "image/png": "C:\\Users\\dmtle\\Projects\\neural-pasta\\_build\\jupyter_execute\\5_from_arcface_to_simpleface_10_0.png"
      }
     },
     "output_type": "execute_result"
    }
   ],
   "source": [
    "image1 = Image.open(\"assets/from_arcface_to_simpleface/arcface_clusters.png\")\n",
    "image2 = Image.open(\"assets/from_arcface_to_simpleface/simpleface_clusters.png\")\n",
    "\n",
    "new_image = Image.new(\"RGB\", (image1.width + image2.width, image1.height))\n",
    "new_image.paste(image1, (0, 0))\n",
    "new_image.paste(image2, (image1.width, 0))\n",
    "new_image"
   ]
  },
  {
   "cell_type": "markdown",
   "id": "4af0beec",
   "metadata": {},
   "source": [
    "# Conclusion\n",
    "\n",
    "Today we’ve taken apart a widely used ArcFace loss function and created a simpler and clearer version of it which directly optimizes for angles between vectors instead of cosines with margins. This new loss function improves on desirable properties of ArcFace and fixes some of its flaws (local minima, saddle points, breaks, computational cost). It demonstrates similar performance in small-scale tests, but proper full-scale training should still be done to compare the two. I expect there to be no significant difference in the results except, maybe, for convergence speed. And in general it is easier to explain, understand and implement. \n",
    "\n",
    "And if you ask me, if this did help with the face swapper and identity-attribute disentanglement - no, it didn't. Have a good night."
   ]
  },
  {
   "cell_type": "code",
   "execution_count": 5,
   "id": "335a0e63",
   "metadata": {
    "tags": [
     "remove-cell"
    ]
   },
   "outputs": [
    {
     "name": "stderr",
     "output_type": "stream",
     "text": [
      "\r",
      "  0%|                                                                                          | 0/500 [00:00<?, ?it/s]"
     ]
    },
    {
     "name": "stderr",
     "output_type": "stream",
     "text": [
      "\r",
      "Loss: 3.580098:   0%|                                                                          | 0/500 [00:01<?, ?it/s]"
     ]
    },
    {
     "name": "stderr",
     "output_type": "stream",
     "text": [
      "\r",
      "Loss: 3.580098:   0%|▏                                                                 | 1/500 [00:01<10:42,  1.29s/it]"
     ]
    },
    {
     "name": "stderr",
     "output_type": "stream",
     "text": [
      "\r",
      "Loss: 3.352076:   0%|▏                                                                 | 1/500 [00:01<10:42,  1.29s/it]"
     ]
    },
    {
     "name": "stderr",
     "output_type": "stream",
     "text": [
      "\r",
      "Loss: 2.985184:   0%|▏                                                                 | 1/500 [00:01<10:42,  1.29s/it]"
     ]
    },
    {
     "name": "stderr",
     "output_type": "stream",
     "text": [
      "\r",
      "Loss: 2.985184:   1%|▍                                                                 | 3/500 [00:01<03:19,  2.49it/s]"
     ]
    },
    {
     "name": "stderr",
     "output_type": "stream",
     "text": [
      "\r",
      "Loss: 2.807896:   1%|▍                                                                 | 3/500 [00:01<03:19,  2.49it/s]"
     ]
    },
    {
     "name": "stderr",
     "output_type": "stream",
     "text": [
      "\r",
      "Loss: 3.176776:   1%|▍                                                                 | 3/500 [00:01<03:19,  2.49it/s]"
     ]
    },
    {
     "name": "stderr",
     "output_type": "stream",
     "text": [
      "\r",
      "Loss: 3.176776:   1%|▋                                                                 | 5/500 [00:01<02:00,  4.12it/s]"
     ]
    },
    {
     "name": "stderr",
     "output_type": "stream",
     "text": [
      "\r",
      "Loss: 2.763846:   1%|▋                                                                 | 5/500 [00:01<02:00,  4.12it/s]"
     ]
    },
    {
     "name": "stderr",
     "output_type": "stream",
     "text": [
      "\r",
      "Loss: 2.595540:   1%|▋                                                                 | 5/500 [00:01<02:00,  4.12it/s]"
     ]
    },
    {
     "name": "stderr",
     "output_type": "stream",
     "text": [
      "\r",
      "Loss: 2.595540:   1%|▉                                                                 | 7/500 [00:01<01:27,  5.62it/s]"
     ]
    },
    {
     "name": "stderr",
     "output_type": "stream",
     "text": [
      "\r",
      "Loss: 2.813037:   1%|▉                                                                 | 7/500 [00:01<01:27,  5.62it/s]"
     ]
    },
    {
     "name": "stderr",
     "output_type": "stream",
     "text": [
      "\r",
      "Loss: 2.474284:   1%|▉                                                                 | 7/500 [00:02<01:27,  5.62it/s]"
     ]
    },
    {
     "name": "stderr",
     "output_type": "stream",
     "text": [
      "\r",
      "Loss: 2.474284:   2%|█▏                                                                | 9/500 [00:02<01:10,  6.92it/s]"
     ]
    },
    {
     "name": "stderr",
     "output_type": "stream",
     "text": [
      "\r",
      "Loss: 2.602293:   2%|█▏                                                                | 9/500 [00:02<01:10,  6.92it/s]"
     ]
    },
    {
     "name": "stderr",
     "output_type": "stream",
     "text": [
      "\r",
      "Loss: 2.793965:   2%|█▏                                                                | 9/500 [00:02<01:10,  6.92it/s]"
     ]
    },
    {
     "name": "stderr",
     "output_type": "stream",
     "text": [
      "\r",
      "Loss: 2.793965:   2%|█▍                                                               | 11/500 [00:02<01:01,  8.00it/s]"
     ]
    },
    {
     "name": "stderr",
     "output_type": "stream",
     "text": [
      "\r",
      "Loss: 2.508236:   2%|█▍                                                               | 11/500 [00:02<01:01,  8.00it/s]"
     ]
    },
    {
     "name": "stderr",
     "output_type": "stream",
     "text": [
      "\r",
      "Loss: 2.587673:   2%|█▍                                                               | 11/500 [00:02<01:01,  8.00it/s]"
     ]
    },
    {
     "name": "stderr",
     "output_type": "stream",
     "text": [
      "\r",
      "Loss: 2.587673:   3%|█▋                                                               | 13/500 [00:02<00:54,  8.93it/s]"
     ]
    },
    {
     "name": "stderr",
     "output_type": "stream",
     "text": [
      "\r",
      "Loss: 2.463036:   3%|█▋                                                               | 13/500 [00:02<00:54,  8.93it/s]"
     ]
    },
    {
     "name": "stderr",
     "output_type": "stream",
     "text": [
      "\r",
      "Loss: 2.472658:   3%|█▋                                                               | 13/500 [00:02<00:54,  8.93it/s]"
     ]
    },
    {
     "name": "stderr",
     "output_type": "stream",
     "text": [
      "\r",
      "Loss: 2.472658:   3%|█▉                                                               | 15/500 [00:02<00:51,  9.42it/s]"
     ]
    },
    {
     "name": "stderr",
     "output_type": "stream",
     "text": [
      "\r",
      "Loss: 2.205953:   3%|█▉                                                               | 15/500 [00:02<00:51,  9.42it/s]"
     ]
    },
    {
     "name": "stderr",
     "output_type": "stream",
     "text": [
      "\r",
      "Loss: 2.302878:   3%|█▉                                                               | 15/500 [00:02<00:51,  9.42it/s]"
     ]
    },
    {
     "name": "stderr",
     "output_type": "stream",
     "text": [
      "\r",
      "Loss: 2.302878:   3%|██▏                                                              | 17/500 [00:02<00:48,  9.96it/s]"
     ]
    },
    {
     "name": "stderr",
     "output_type": "stream",
     "text": [
      "\r",
      "Loss: 2.526327:   3%|██▏                                                              | 17/500 [00:02<00:48,  9.96it/s]"
     ]
    },
    {
     "name": "stderr",
     "output_type": "stream",
     "text": [
      "\r",
      "Loss: 2.359041:   3%|██▏                                                              | 17/500 [00:02<00:48,  9.96it/s]"
     ]
    },
    {
     "name": "stderr",
     "output_type": "stream",
     "text": [
      "\r",
      "Loss: 2.359041:   4%|██▍                                                              | 19/500 [00:02<00:47, 10.22it/s]"
     ]
    },
    {
     "name": "stderr",
     "output_type": "stream",
     "text": [
      "\r",
      "Loss: 2.568322:   4%|██▍                                                              | 19/500 [00:02<00:47, 10.22it/s]"
     ]
    },
    {
     "name": "stderr",
     "output_type": "stream",
     "text": [
      "\r",
      "Loss: 2.380239:   4%|██▍                                                              | 19/500 [00:03<00:47, 10.22it/s]"
     ]
    },
    {
     "name": "stderr",
     "output_type": "stream",
     "text": [
      "\r",
      "Loss: 2.380239:   4%|██▋                                                              | 21/500 [00:03<00:45, 10.58it/s]"
     ]
    },
    {
     "name": "stderr",
     "output_type": "stream",
     "text": [
      "\r",
      "Loss: 2.158540:   4%|██▋                                                              | 21/500 [00:03<00:45, 10.58it/s]"
     ]
    },
    {
     "name": "stderr",
     "output_type": "stream",
     "text": [
      "\r",
      "Loss: 2.240981:   4%|██▋                                                              | 21/500 [00:03<00:45, 10.58it/s]"
     ]
    },
    {
     "name": "stderr",
     "output_type": "stream",
     "text": [
      "\r",
      "Loss: 2.240981:   5%|██▉                                                              | 23/500 [00:03<00:44, 10.68it/s]"
     ]
    },
    {
     "name": "stderr",
     "output_type": "stream",
     "text": [
      "\r",
      "Loss: 2.214216:   5%|██▉                                                              | 23/500 [00:03<00:44, 10.68it/s]"
     ]
    },
    {
     "name": "stderr",
     "output_type": "stream",
     "text": [
      "\r",
      "Loss: 2.284796:   5%|██▉                                                              | 23/500 [00:03<00:44, 10.68it/s]"
     ]
    },
    {
     "name": "stderr",
     "output_type": "stream",
     "text": [
      "\r",
      "Loss: 2.284796:   5%|███▎                                                             | 25/500 [00:03<00:44, 10.71it/s]"
     ]
    },
    {
     "name": "stderr",
     "output_type": "stream",
     "text": [
      "\r",
      "Loss: 2.251402:   5%|███▎                                                             | 25/500 [00:03<00:44, 10.71it/s]"
     ]
    },
    {
     "name": "stderr",
     "output_type": "stream",
     "text": [
      "\r",
      "Loss: 2.125298:   5%|███▎                                                             | 25/500 [00:03<00:44, 10.71it/s]"
     ]
    },
    {
     "name": "stderr",
     "output_type": "stream",
     "text": [
      "\r",
      "Loss: 2.125298:   5%|███▌                                                             | 27/500 [00:03<00:43, 10.99it/s]"
     ]
    },
    {
     "name": "stderr",
     "output_type": "stream",
     "text": [
      "\r",
      "Loss: 2.149908:   5%|███▌                                                             | 27/500 [00:03<00:43, 10.99it/s]"
     ]
    },
    {
     "name": "stderr",
     "output_type": "stream",
     "text": [
      "\r",
      "Loss: 2.105702:   5%|███▌                                                             | 27/500 [00:03<00:43, 10.99it/s]"
     ]
    },
    {
     "name": "stderr",
     "output_type": "stream",
     "text": [
      "\r",
      "Loss: 2.105702:   6%|███▊                                                             | 29/500 [00:03<00:42, 11.11it/s]"
     ]
    },
    {
     "name": "stderr",
     "output_type": "stream",
     "text": [
      "\r",
      "Loss: 2.239866:   6%|███▊                                                             | 29/500 [00:03<00:42, 11.11it/s]"
     ]
    },
    {
     "name": "stderr",
     "output_type": "stream",
     "text": [
      "\r",
      "Loss: 2.333099:   6%|███▊                                                             | 29/500 [00:03<00:42, 11.11it/s]"
     ]
    },
    {
     "name": "stderr",
     "output_type": "stream",
     "text": [
      "\r",
      "Loss: 2.333099:   6%|████                                                             | 31/500 [00:03<00:43, 10.83it/s]"
     ]
    },
    {
     "name": "stderr",
     "output_type": "stream",
     "text": [
      "\r",
      "Loss: 2.101764:   6%|████                                                             | 31/500 [00:04<00:43, 10.83it/s]"
     ]
    },
    {
     "name": "stderr",
     "output_type": "stream",
     "text": [
      "\r",
      "Loss: 2.158741:   6%|████                                                             | 31/500 [00:04<00:43, 10.83it/s]"
     ]
    },
    {
     "name": "stderr",
     "output_type": "stream",
     "text": [
      "\r",
      "Loss: 2.158741:   7%|████▎                                                            | 33/500 [00:04<00:42, 11.07it/s]"
     ]
    },
    {
     "name": "stderr",
     "output_type": "stream",
     "text": [
      "\r",
      "Loss: 2.055323:   7%|████▎                                                            | 33/500 [00:04<00:42, 11.07it/s]"
     ]
    },
    {
     "name": "stderr",
     "output_type": "stream",
     "text": [
      "\r",
      "Loss: 2.167605:   7%|████▎                                                            | 33/500 [00:04<00:42, 11.07it/s]"
     ]
    },
    {
     "name": "stderr",
     "output_type": "stream",
     "text": [
      "\r",
      "Loss: 2.167605:   7%|████▌                                                            | 35/500 [00:04<00:41, 11.25it/s]"
     ]
    },
    {
     "name": "stderr",
     "output_type": "stream",
     "text": [
      "\r",
      "Loss: 2.094370:   7%|████▌                                                            | 35/500 [00:04<00:41, 11.25it/s]"
     ]
    },
    {
     "name": "stderr",
     "output_type": "stream",
     "text": [
      "\r",
      "Loss: 2.148314:   7%|████▌                                                            | 35/500 [00:04<00:41, 11.25it/s]"
     ]
    },
    {
     "name": "stderr",
     "output_type": "stream",
     "text": [
      "\r",
      "Loss: 2.148314:   7%|████▊                                                            | 37/500 [00:04<00:40, 11.33it/s]"
     ]
    },
    {
     "name": "stderr",
     "output_type": "stream",
     "text": [
      "\r",
      "Loss: 2.125546:   7%|████▊                                                            | 37/500 [00:04<00:40, 11.33it/s]"
     ]
    },
    {
     "name": "stderr",
     "output_type": "stream",
     "text": [
      "\r",
      "Loss: 2.144152:   7%|████▊                                                            | 37/500 [00:04<00:40, 11.33it/s]"
     ]
    },
    {
     "name": "stderr",
     "output_type": "stream",
     "text": [
      "\r",
      "Loss: 2.144152:   8%|█████                                                            | 39/500 [00:04<00:41, 11.00it/s]"
     ]
    },
    {
     "name": "stderr",
     "output_type": "stream",
     "text": [
      "\r",
      "Loss: 2.195830:   8%|█████                                                            | 39/500 [00:04<00:41, 11.00it/s]"
     ]
    },
    {
     "name": "stderr",
     "output_type": "stream",
     "text": [
      "\r",
      "Loss: 2.157329:   8%|█████                                                            | 39/500 [00:04<00:41, 11.00it/s]"
     ]
    },
    {
     "name": "stderr",
     "output_type": "stream",
     "text": [
      "\r",
      "Loss: 2.157329:   8%|█████▎                                                           | 41/500 [00:04<00:41, 10.96it/s]"
     ]
    },
    {
     "name": "stderr",
     "output_type": "stream",
     "text": [
      "\r",
      "Loss: 2.044828:   8%|█████▎                                                           | 41/500 [00:04<00:41, 10.96it/s]"
     ]
    },
    {
     "name": "stderr",
     "output_type": "stream",
     "text": [
      "\r",
      "Loss: 2.086161:   8%|█████▎                                                           | 41/500 [00:05<00:41, 10.96it/s]"
     ]
    },
    {
     "name": "stderr",
     "output_type": "stream",
     "text": [
      "\r",
      "Loss: 2.086161:   9%|█████▌                                                           | 43/500 [00:05<00:41, 11.03it/s]"
     ]
    },
    {
     "name": "stderr",
     "output_type": "stream",
     "text": [
      "\r",
      "Loss: 2.028709:   9%|█████▌                                                           | 43/500 [00:05<00:41, 11.03it/s]"
     ]
    },
    {
     "name": "stderr",
     "output_type": "stream",
     "text": [
      "\r",
      "Loss: 2.124788:   9%|█████▌                                                           | 43/500 [00:05<00:41, 11.03it/s]"
     ]
    },
    {
     "name": "stderr",
     "output_type": "stream",
     "text": [
      "\r",
      "Loss: 2.124788:   9%|█████▊                                                           | 45/500 [00:05<00:41, 10.92it/s]"
     ]
    },
    {
     "name": "stderr",
     "output_type": "stream",
     "text": [
      "\r",
      "Loss: 2.013960:   9%|█████▊                                                           | 45/500 [00:05<00:41, 10.92it/s]"
     ]
    },
    {
     "name": "stderr",
     "output_type": "stream",
     "text": [
      "\r",
      "Loss: 2.015234:   9%|█████▊                                                           | 45/500 [00:05<00:41, 10.92it/s]"
     ]
    },
    {
     "name": "stderr",
     "output_type": "stream",
     "text": [
      "\r",
      "Loss: 2.015234:   9%|██████                                                           | 47/500 [00:05<00:41, 10.86it/s]"
     ]
    },
    {
     "name": "stderr",
     "output_type": "stream",
     "text": [
      "\r",
      "Loss: 1.995925:   9%|██████                                                           | 47/500 [00:05<00:41, 10.86it/s]"
     ]
    },
    {
     "name": "stderr",
     "output_type": "stream",
     "text": [
      "\r",
      "Loss: 1.960463:   9%|██████                                                           | 47/500 [00:05<00:41, 10.86it/s]"
     ]
    },
    {
     "name": "stderr",
     "output_type": "stream",
     "text": [
      "\r",
      "Loss: 1.960463:  10%|██████▎                                                          | 49/500 [00:05<00:43, 10.39it/s]"
     ]
    },
    {
     "name": "stderr",
     "output_type": "stream",
     "text": [
      "\r",
      "Loss: 2.140139:  10%|██████▎                                                          | 49/500 [00:05<00:43, 10.39it/s]"
     ]
    },
    {
     "name": "stderr",
     "output_type": "stream",
     "text": [
      "\r",
      "Loss: 1.983918:  10%|██████▎                                                          | 49/500 [00:05<00:43, 10.39it/s]"
     ]
    },
    {
     "name": "stderr",
     "output_type": "stream",
     "text": [
      "\r",
      "Loss: 1.983918:  10%|██████▋                                                          | 51/500 [00:05<00:43, 10.28it/s]"
     ]
    },
    {
     "name": "stderr",
     "output_type": "stream",
     "text": [
      "\r",
      "Loss: 1.994740:  10%|██████▋                                                          | 51/500 [00:05<00:43, 10.28it/s]"
     ]
    },
    {
     "name": "stderr",
     "output_type": "stream",
     "text": [
      "\r",
      "Loss: 2.000695:  10%|██████▋                                                          | 51/500 [00:06<00:43, 10.28it/s]"
     ]
    },
    {
     "name": "stderr",
     "output_type": "stream",
     "text": [
      "\r",
      "Loss: 2.000695:  11%|██████▉                                                          | 53/500 [00:06<00:45,  9.77it/s]"
     ]
    },
    {
     "name": "stderr",
     "output_type": "stream",
     "text": [
      "\r",
      "Loss: 2.020957:  11%|██████▉                                                          | 53/500 [00:06<00:45,  9.77it/s]"
     ]
    },
    {
     "name": "stderr",
     "output_type": "stream",
     "text": [
      "\r",
      "Loss: 2.020957:  11%|███████                                                          | 54/500 [00:06<00:46,  9.64it/s]"
     ]
    },
    {
     "name": "stderr",
     "output_type": "stream",
     "text": [
      "\r",
      "Loss: 1.949552:  11%|███████                                                          | 54/500 [00:06<00:46,  9.64it/s]"
     ]
    },
    {
     "name": "stderr",
     "output_type": "stream",
     "text": [
      "\r",
      "Loss: 2.011226:  11%|███████                                                          | 54/500 [00:06<00:46,  9.64it/s]"
     ]
    },
    {
     "name": "stderr",
     "output_type": "stream",
     "text": [
      "\r",
      "Loss: 2.011226:  11%|███████▎                                                         | 56/500 [00:06<00:45,  9.73it/s]"
     ]
    },
    {
     "name": "stderr",
     "output_type": "stream",
     "text": [
      "\r",
      "Loss: 1.967744:  11%|███████▎                                                         | 56/500 [00:06<00:45,  9.73it/s]"
     ]
    },
    {
     "name": "stderr",
     "output_type": "stream",
     "text": [
      "\r",
      "Loss: 2.022894:  11%|███████▎                                                         | 56/500 [00:06<00:45,  9.73it/s]"
     ]
    },
    {
     "name": "stderr",
     "output_type": "stream",
     "text": [
      "\r",
      "Loss: 2.022894:  12%|███████▌                                                         | 58/500 [00:06<00:45,  9.73it/s]"
     ]
    },
    {
     "name": "stderr",
     "output_type": "stream",
     "text": [
      "\r",
      "Loss: 2.115782:  12%|███████▌                                                         | 58/500 [00:06<00:45,  9.73it/s]"
     ]
    },
    {
     "name": "stderr",
     "output_type": "stream",
     "text": [
      "\r",
      "Loss: 2.115782:  12%|███████▋                                                         | 59/500 [00:06<00:45,  9.63it/s]"
     ]
    },
    {
     "name": "stderr",
     "output_type": "stream",
     "text": [
      "\r",
      "Loss: 1.960657:  12%|███████▋                                                         | 59/500 [00:06<00:45,  9.63it/s]"
     ]
    },
    {
     "name": "stderr",
     "output_type": "stream",
     "text": [
      "\r",
      "Loss: 1.960657:  12%|███████▊                                                         | 60/500 [00:06<00:45,  9.63it/s]"
     ]
    },
    {
     "name": "stderr",
     "output_type": "stream",
     "text": [
      "\r",
      "Loss: 1.914665:  12%|███████▊                                                         | 60/500 [00:06<00:45,  9.63it/s]"
     ]
    },
    {
     "name": "stderr",
     "output_type": "stream",
     "text": [
      "\r",
      "Loss: 1.914665:  12%|███████▉                                                         | 61/500 [00:06<00:46,  9.51it/s]"
     ]
    },
    {
     "name": "stderr",
     "output_type": "stream",
     "text": [
      "\r",
      "Loss: 1.978266:  12%|███████▉                                                         | 61/500 [00:07<00:46,  9.51it/s]"
     ]
    },
    {
     "name": "stderr",
     "output_type": "stream",
     "text": [
      "\r",
      "Loss: 1.978266:  12%|████████                                                         | 62/500 [00:07<00:46,  9.49it/s]"
     ]
    },
    {
     "name": "stderr",
     "output_type": "stream",
     "text": [
      "\r",
      "Loss: 1.941718:  12%|████████                                                         | 62/500 [00:07<00:46,  9.49it/s]"
     ]
    },
    {
     "name": "stderr",
     "output_type": "stream",
     "text": [
      "\r",
      "Loss: 1.941718:  13%|████████▏                                                        | 63/500 [00:07<00:47,  9.26it/s]"
     ]
    },
    {
     "name": "stderr",
     "output_type": "stream",
     "text": [
      "\r",
      "Loss: 1.954465:  13%|████████▏                                                        | 63/500 [00:07<00:47,  9.26it/s]"
     ]
    },
    {
     "name": "stderr",
     "output_type": "stream",
     "text": [
      "\r",
      "Loss: 1.954465:  13%|████████▎                                                        | 64/500 [00:07<00:46,  9.31it/s]"
     ]
    },
    {
     "name": "stderr",
     "output_type": "stream",
     "text": [
      "\r",
      "Loss: 1.928957:  13%|████████▎                                                        | 64/500 [00:07<00:46,  9.31it/s]"
     ]
    },
    {
     "name": "stderr",
     "output_type": "stream",
     "text": [
      "\r",
      "Loss: 1.982341:  13%|████████▎                                                        | 64/500 [00:07<00:46,  9.31it/s]"
     ]
    },
    {
     "name": "stderr",
     "output_type": "stream",
     "text": [
      "\r",
      "Loss: 1.982341:  13%|████████▌                                                        | 66/500 [00:07<00:45,  9.54it/s]"
     ]
    },
    {
     "name": "stderr",
     "output_type": "stream",
     "text": [
      "\r",
      "Loss: 1.950434:  13%|████████▌                                                        | 66/500 [00:07<00:45,  9.54it/s]"
     ]
    },
    {
     "name": "stderr",
     "output_type": "stream",
     "text": [
      "\r",
      "Loss: 1.950434:  13%|████████▋                                                        | 67/500 [00:07<00:45,  9.53it/s]"
     ]
    },
    {
     "name": "stderr",
     "output_type": "stream",
     "text": [
      "\r",
      "Loss: 2.061903:  13%|████████▋                                                        | 67/500 [00:07<00:45,  9.53it/s]"
     ]
    },
    {
     "name": "stderr",
     "output_type": "stream",
     "text": [
      "\r",
      "Loss: 1.910260:  13%|████████▋                                                        | 67/500 [00:07<00:45,  9.53it/s]"
     ]
    },
    {
     "name": "stderr",
     "output_type": "stream",
     "text": [
      "\r",
      "Loss: 1.910260:  14%|████████▉                                                        | 69/500 [00:07<00:46,  9.24it/s]"
     ]
    },
    {
     "name": "stderr",
     "output_type": "stream",
     "text": [
      "\r",
      "Loss: 1.968252:  14%|████████▉                                                        | 69/500 [00:07<00:46,  9.24it/s]"
     ]
    },
    {
     "name": "stderr",
     "output_type": "stream",
     "text": [
      "\r",
      "Loss: 1.968252:  14%|█████████                                                        | 70/500 [00:07<00:47,  9.09it/s]"
     ]
    },
    {
     "name": "stderr",
     "output_type": "stream",
     "text": [
      "\r",
      "Loss: 1.921717:  14%|█████████                                                        | 70/500 [00:07<00:47,  9.09it/s]"
     ]
    },
    {
     "name": "stderr",
     "output_type": "stream",
     "text": [
      "\r",
      "Loss: 2.066503:  14%|█████████                                                        | 70/500 [00:08<00:47,  9.09it/s]"
     ]
    },
    {
     "name": "stderr",
     "output_type": "stream",
     "text": [
      "\r",
      "Loss: 2.066503:  14%|█████████▎                                                       | 72/500 [00:08<00:45,  9.43it/s]"
     ]
    },
    {
     "name": "stderr",
     "output_type": "stream",
     "text": [
      "\r",
      "Loss: 1.904485:  14%|█████████▎                                                       | 72/500 [00:08<00:45,  9.43it/s]"
     ]
    },
    {
     "name": "stderr",
     "output_type": "stream",
     "text": [
      "\r",
      "Loss: 1.939942:  14%|█████████▎                                                       | 72/500 [00:08<00:45,  9.43it/s]"
     ]
    },
    {
     "name": "stderr",
     "output_type": "stream",
     "text": [
      "\r",
      "Loss: 1.939942:  15%|█████████▌                                                       | 74/500 [00:08<00:44,  9.64it/s]"
     ]
    },
    {
     "name": "stderr",
     "output_type": "stream",
     "text": [
      "\r",
      "Loss: 2.006441:  15%|█████████▌                                                       | 74/500 [00:08<00:44,  9.64it/s]"
     ]
    },
    {
     "name": "stderr",
     "output_type": "stream",
     "text": [
      "\r",
      "Loss: 2.006441:  15%|█████████▊                                                       | 75/500 [00:08<00:44,  9.49it/s]"
     ]
    },
    {
     "name": "stderr",
     "output_type": "stream",
     "text": [
      "\r",
      "Loss: 1.938021:  15%|█████████▊                                                       | 75/500 [00:08<00:44,  9.49it/s]"
     ]
    },
    {
     "name": "stderr",
     "output_type": "stream",
     "text": [
      "\r",
      "Loss: 1.938021:  15%|█████████▉                                                       | 76/500 [00:08<00:44,  9.42it/s]"
     ]
    },
    {
     "name": "stderr",
     "output_type": "stream",
     "text": [
      "\r",
      "Loss: 2.006879:  15%|█████████▉                                                       | 76/500 [00:08<00:44,  9.42it/s]"
     ]
    },
    {
     "name": "stderr",
     "output_type": "stream",
     "text": [
      "\r",
      "Loss: 2.006879:  15%|██████████                                                       | 77/500 [00:08<00:44,  9.54it/s]"
     ]
    },
    {
     "name": "stderr",
     "output_type": "stream",
     "text": [
      "\r",
      "Loss: 1.962398:  15%|██████████                                                       | 77/500 [00:08<00:44,  9.54it/s]"
     ]
    },
    {
     "name": "stderr",
     "output_type": "stream",
     "text": [
      "\r",
      "Loss: 1.962398:  16%|██████████▏                                                      | 78/500 [00:08<00:44,  9.52it/s]"
     ]
    },
    {
     "name": "stderr",
     "output_type": "stream",
     "text": [
      "\r",
      "Loss: 1.962759:  16%|██████████▏                                                      | 78/500 [00:08<00:44,  9.52it/s]"
     ]
    },
    {
     "name": "stderr",
     "output_type": "stream",
     "text": [
      "\r",
      "Loss: 1.962759:  16%|██████████▎                                                      | 79/500 [00:08<00:43,  9.58it/s]"
     ]
    },
    {
     "name": "stderr",
     "output_type": "stream",
     "text": [
      "\r",
      "Loss: 1.892180:  16%|██████████▎                                                      | 79/500 [00:08<00:43,  9.58it/s]"
     ]
    },
    {
     "name": "stderr",
     "output_type": "stream",
     "text": [
      "\r",
      "Loss: 1.892180:  16%|██████████▍                                                      | 80/500 [00:08<00:43,  9.57it/s]"
     ]
    },
    {
     "name": "stderr",
     "output_type": "stream",
     "text": [
      "\r",
      "Loss: 2.126163:  16%|██████████▍                                                      | 80/500 [00:09<00:43,  9.57it/s]"
     ]
    },
    {
     "name": "stderr",
     "output_type": "stream",
     "text": [
      "\r",
      "Loss: 2.126163:  16%|██████████▌                                                      | 81/500 [00:09<00:46,  8.93it/s]"
     ]
    },
    {
     "name": "stderr",
     "output_type": "stream",
     "text": [
      "\r",
      "Loss: 1.921092:  16%|██████████▌                                                      | 81/500 [00:09<00:46,  8.93it/s]"
     ]
    },
    {
     "name": "stderr",
     "output_type": "stream",
     "text": [
      "\r",
      "Loss: 1.921092:  16%|██████████▋                                                      | 82/500 [00:09<00:48,  8.68it/s]"
     ]
    },
    {
     "name": "stderr",
     "output_type": "stream",
     "text": [
      "\r",
      "Loss: 1.915534:  16%|██████████▋                                                      | 82/500 [00:09<00:48,  8.68it/s]"
     ]
    },
    {
     "name": "stderr",
     "output_type": "stream",
     "text": [
      "\r",
      "Loss: 1.915534:  17%|██████████▊                                                      | 83/500 [00:09<00:47,  8.70it/s]"
     ]
    },
    {
     "name": "stderr",
     "output_type": "stream",
     "text": [
      "\r",
      "Loss: 1.934905:  17%|██████████▊                                                      | 83/500 [00:09<00:47,  8.70it/s]"
     ]
    },
    {
     "name": "stderr",
     "output_type": "stream",
     "text": [
      "\r",
      "Loss: 1.929723:  17%|██████████▊                                                      | 83/500 [00:09<00:47,  8.70it/s]"
     ]
    },
    {
     "name": "stderr",
     "output_type": "stream",
     "text": [
      "\r",
      "Loss: 1.929723:  17%|███████████                                                      | 85/500 [00:09<00:44,  9.31it/s]"
     ]
    },
    {
     "name": "stderr",
     "output_type": "stream",
     "text": [
      "\r",
      "Loss: 1.964318:  17%|███████████                                                      | 85/500 [00:09<00:44,  9.31it/s]"
     ]
    },
    {
     "name": "stderr",
     "output_type": "stream",
     "text": [
      "\r",
      "Loss: 1.964318:  17%|███████████▏                                                     | 86/500 [00:09<00:43,  9.47it/s]"
     ]
    },
    {
     "name": "stderr",
     "output_type": "stream",
     "text": [
      "\r",
      "Loss: 1.925296:  17%|███████████▏                                                     | 86/500 [00:09<00:43,  9.47it/s]"
     ]
    },
    {
     "name": "stderr",
     "output_type": "stream",
     "text": [
      "\r",
      "Loss: 1.925296:  17%|███████████▎                                                     | 87/500 [00:09<00:44,  9.32it/s]"
     ]
    },
    {
     "name": "stderr",
     "output_type": "stream",
     "text": [
      "\r",
      "Loss: 1.950536:  17%|███████████▎                                                     | 87/500 [00:09<00:44,  9.32it/s]"
     ]
    },
    {
     "name": "stderr",
     "output_type": "stream",
     "text": [
      "\r",
      "Loss: 1.950536:  18%|███████████▍                                                     | 88/500 [00:09<00:44,  9.35it/s]"
     ]
    },
    {
     "name": "stderr",
     "output_type": "stream",
     "text": [
      "\r",
      "Loss: 1.968247:  18%|███████████▍                                                     | 88/500 [00:09<00:44,  9.35it/s]"
     ]
    },
    {
     "name": "stderr",
     "output_type": "stream",
     "text": [
      "\r",
      "Loss: 1.968247:  18%|███████████▌                                                     | 89/500 [00:09<00:44,  9.32it/s]"
     ]
    },
    {
     "name": "stderr",
     "output_type": "stream",
     "text": [
      "\r",
      "Loss: 1.919584:  18%|███████████▌                                                     | 89/500 [00:10<00:44,  9.32it/s]"
     ]
    },
    {
     "name": "stderr",
     "output_type": "stream",
     "text": [
      "\r",
      "Loss: 2.051576:  18%|███████████▌                                                     | 89/500 [00:10<00:44,  9.32it/s]"
     ]
    },
    {
     "name": "stderr",
     "output_type": "stream",
     "text": [
      "\r",
      "Loss: 2.051576:  18%|███████████▊                                                     | 91/500 [00:10<00:44,  9.24it/s]"
     ]
    },
    {
     "name": "stderr",
     "output_type": "stream",
     "text": [
      "\r",
      "Loss: 1.931514:  18%|███████████▊                                                     | 91/500 [00:10<00:44,  9.24it/s]"
     ]
    },
    {
     "name": "stderr",
     "output_type": "stream",
     "text": [
      "\r",
      "Loss: 1.931514:  18%|███████████▉                                                     | 92/500 [00:10<00:45,  8.97it/s]"
     ]
    },
    {
     "name": "stderr",
     "output_type": "stream",
     "text": [
      "\r",
      "Loss: 1.917824:  18%|███████████▉                                                     | 92/500 [00:10<00:45,  8.97it/s]"
     ]
    },
    {
     "name": "stderr",
     "output_type": "stream",
     "text": [
      "\r",
      "Loss: 1.917824:  19%|████████████                                                     | 93/500 [00:10<00:47,  8.55it/s]"
     ]
    },
    {
     "name": "stderr",
     "output_type": "stream",
     "text": [
      "\r",
      "Loss: 1.932379:  19%|████████████                                                     | 93/500 [00:10<00:47,  8.55it/s]"
     ]
    },
    {
     "name": "stderr",
     "output_type": "stream",
     "text": [
      "\r",
      "Loss: 1.932379:  19%|████████████▏                                                    | 94/500 [00:10<00:46,  8.69it/s]"
     ]
    },
    {
     "name": "stderr",
     "output_type": "stream",
     "text": [
      "\r",
      "Loss: 1.949644:  19%|████████████▏                                                    | 94/500 [00:10<00:46,  8.69it/s]"
     ]
    },
    {
     "name": "stderr",
     "output_type": "stream",
     "text": [
      "\r",
      "Loss: 1.919345:  19%|████████████▏                                                    | 94/500 [00:10<00:46,  8.69it/s]"
     ]
    },
    {
     "name": "stderr",
     "output_type": "stream",
     "text": [
      "\r",
      "Loss: 1.919345:  19%|████████████▍                                                    | 96/500 [00:10<00:45,  8.91it/s]"
     ]
    },
    {
     "name": "stderr",
     "output_type": "stream",
     "text": [
      "\r",
      "Loss: 1.912288:  19%|████████████▍                                                    | 96/500 [00:10<00:45,  8.91it/s]"
     ]
    },
    {
     "name": "stderr",
     "output_type": "stream",
     "text": [
      "\r",
      "Loss: 1.912288:  19%|████████████▌                                                    | 97/500 [00:10<00:46,  8.73it/s]"
     ]
    },
    {
     "name": "stderr",
     "output_type": "stream",
     "text": [
      "\r",
      "Loss: 1.901448:  19%|████████████▌                                                    | 97/500 [00:10<00:46,  8.73it/s]"
     ]
    },
    {
     "name": "stderr",
     "output_type": "stream",
     "text": [
      "\r",
      "Loss: 1.901448:  20%|████████████▋                                                    | 98/500 [00:10<00:46,  8.68it/s]"
     ]
    },
    {
     "name": "stderr",
     "output_type": "stream",
     "text": [
      "\r",
      "Loss: 1.891624:  20%|████████████▋                                                    | 98/500 [00:11<00:46,  8.68it/s]"
     ]
    },
    {
     "name": "stderr",
     "output_type": "stream",
     "text": [
      "\r",
      "Loss: 1.891624:  20%|████████████▊                                                    | 99/500 [00:11<00:47,  8.48it/s]"
     ]
    },
    {
     "name": "stderr",
     "output_type": "stream",
     "text": [
      "\r",
      "Loss: 2.034427:  20%|████████████▊                                                    | 99/500 [00:11<00:47,  8.48it/s]"
     ]
    },
    {
     "name": "stderr",
     "output_type": "stream",
     "text": [
      "\r",
      "Loss: 2.034427:  20%|████████████▊                                                   | 100/500 [00:11<00:46,  8.69it/s]"
     ]
    },
    {
     "name": "stderr",
     "output_type": "stream",
     "text": [
      "\r",
      "Loss: 1.919850:  20%|████████████▊                                                   | 100/500 [00:11<00:46,  8.69it/s]"
     ]
    },
    {
     "name": "stderr",
     "output_type": "stream",
     "text": [
      "\r",
      "Loss: 1.919850:  20%|████████████▉                                                   | 101/500 [00:11<00:45,  8.76it/s]"
     ]
    },
    {
     "name": "stderr",
     "output_type": "stream",
     "text": [
      "\r",
      "Loss: 1.930649:  20%|████████████▉                                                   | 101/500 [00:11<00:45,  8.76it/s]"
     ]
    },
    {
     "name": "stderr",
     "output_type": "stream",
     "text": [
      "\r",
      "Loss: 1.930649:  20%|█████████████                                                   | 102/500 [00:11<00:44,  9.04it/s]"
     ]
    },
    {
     "name": "stderr",
     "output_type": "stream",
     "text": [
      "\r",
      "Loss: 1.897527:  20%|█████████████                                                   | 102/500 [00:11<00:44,  9.04it/s]"
     ]
    },
    {
     "name": "stderr",
     "output_type": "stream",
     "text": [
      "\r",
      "Loss: 1.897527:  21%|█████████████▏                                                  | 103/500 [00:11<00:42,  9.25it/s]"
     ]
    },
    {
     "name": "stderr",
     "output_type": "stream",
     "text": [
      "\r",
      "Loss: 1.882265:  21%|█████████████▏                                                  | 103/500 [00:11<00:42,  9.25it/s]"
     ]
    },
    {
     "name": "stderr",
     "output_type": "stream",
     "text": [
      "\r",
      "Loss: 1.882265:  21%|█████████████▎                                                  | 104/500 [00:11<00:46,  8.50it/s]"
     ]
    },
    {
     "name": "stderr",
     "output_type": "stream",
     "text": [
      "\r",
      "Loss: 1.895111:  21%|█████████████▎                                                  | 104/500 [00:11<00:46,  8.50it/s]"
     ]
    },
    {
     "name": "stderr",
     "output_type": "stream",
     "text": [
      "\r",
      "Loss: 1.895111:  21%|█████████████▍                                                  | 105/500 [00:11<00:45,  8.68it/s]"
     ]
    },
    {
     "name": "stderr",
     "output_type": "stream",
     "text": [
      "\r",
      "Loss: 1.908606:  21%|█████████████▍                                                  | 105/500 [00:11<00:45,  8.68it/s]"
     ]
    },
    {
     "name": "stderr",
     "output_type": "stream",
     "text": [
      "\r",
      "Loss: 1.931657:  21%|█████████████▍                                                  | 105/500 [00:11<00:45,  8.68it/s]"
     ]
    },
    {
     "name": "stderr",
     "output_type": "stream",
     "text": [
      "\r",
      "Loss: 1.931657:  21%|█████████████▋                                                  | 107/500 [00:11<00:41,  9.36it/s]"
     ]
    },
    {
     "name": "stderr",
     "output_type": "stream",
     "text": [
      "\r",
      "Loss: 1.869202:  21%|█████████████▋                                                  | 107/500 [00:12<00:41,  9.36it/s]"
     ]
    },
    {
     "name": "stderr",
     "output_type": "stream",
     "text": [
      "\r",
      "Loss: 1.890412:  21%|█████████████▋                                                  | 107/500 [00:12<00:41,  9.36it/s]"
     ]
    },
    {
     "name": "stderr",
     "output_type": "stream",
     "text": [
      "\r",
      "Loss: 1.890412:  22%|█████████████▉                                                  | 109/500 [00:12<00:40,  9.61it/s]"
     ]
    },
    {
     "name": "stderr",
     "output_type": "stream",
     "text": [
      "\r",
      "Loss: 1.894331:  22%|█████████████▉                                                  | 109/500 [00:12<00:40,  9.61it/s]"
     ]
    },
    {
     "name": "stderr",
     "output_type": "stream",
     "text": [
      "\r",
      "Loss: 1.894331:  22%|██████████████                                                  | 110/500 [00:12<00:41,  9.36it/s]"
     ]
    },
    {
     "name": "stderr",
     "output_type": "stream",
     "text": [
      "\r",
      "Loss: 1.903101:  22%|██████████████                                                  | 110/500 [00:12<00:41,  9.36it/s]"
     ]
    },
    {
     "name": "stderr",
     "output_type": "stream",
     "text": [
      "\r",
      "Loss: 1.903101:  22%|██████████████▏                                                 | 111/500 [00:12<00:41,  9.35it/s]"
     ]
    },
    {
     "name": "stderr",
     "output_type": "stream",
     "text": [
      "\r",
      "Loss: 2.007092:  22%|██████████████▏                                                 | 111/500 [00:12<00:41,  9.35it/s]"
     ]
    },
    {
     "name": "stderr",
     "output_type": "stream",
     "text": [
      "\r",
      "Loss: 2.007092:  22%|██████████████▎                                                 | 112/500 [00:12<00:41,  9.36it/s]"
     ]
    },
    {
     "name": "stderr",
     "output_type": "stream",
     "text": [
      "\r",
      "Loss: 1.862830:  22%|██████████████▎                                                 | 112/500 [00:12<00:41,  9.36it/s]"
     ]
    },
    {
     "name": "stderr",
     "output_type": "stream",
     "text": [
      "\r",
      "Loss: 1.862830:  23%|██████████████▍                                                 | 113/500 [00:12<00:40,  9.51it/s]"
     ]
    },
    {
     "name": "stderr",
     "output_type": "stream",
     "text": [
      "\r",
      "Loss: 1.871914:  23%|██████████████▍                                                 | 113/500 [00:12<00:40,  9.51it/s]"
     ]
    },
    {
     "name": "stderr",
     "output_type": "stream",
     "text": [
      "\r",
      "Loss: 2.006684:  23%|██████████████▍                                                 | 113/500 [00:12<00:40,  9.51it/s]"
     ]
    },
    {
     "name": "stderr",
     "output_type": "stream",
     "text": [
      "\r",
      "Loss: 2.006684:  23%|██████████████▋                                                 | 115/500 [00:12<00:40,  9.40it/s]"
     ]
    },
    {
     "name": "stderr",
     "output_type": "stream",
     "text": [
      "\r",
      "Loss: 2.101634:  23%|██████████████▋                                                 | 115/500 [00:12<00:40,  9.40it/s]"
     ]
    },
    {
     "name": "stderr",
     "output_type": "stream",
     "text": [
      "\r",
      "Loss: 2.101634:  23%|██████████████▊                                                 | 116/500 [00:12<00:41,  9.27it/s]"
     ]
    },
    {
     "name": "stderr",
     "output_type": "stream",
     "text": [
      "\r",
      "Loss: 1.869672:  23%|██████████████▊                                                 | 116/500 [00:13<00:41,  9.27it/s]"
     ]
    },
    {
     "name": "stderr",
     "output_type": "stream",
     "text": [
      "\r",
      "Loss: 1.869672:  23%|██████████████▉                                                 | 117/500 [00:13<00:41,  9.23it/s]"
     ]
    },
    {
     "name": "stderr",
     "output_type": "stream",
     "text": [
      "\r",
      "Loss: 1.930346:  23%|██████████████▉                                                 | 117/500 [00:13<00:41,  9.23it/s]"
     ]
    },
    {
     "name": "stderr",
     "output_type": "stream",
     "text": [
      "\r",
      "Loss: 1.893437:  23%|██████████████▉                                                 | 117/500 [00:13<00:41,  9.23it/s]"
     ]
    },
    {
     "name": "stderr",
     "output_type": "stream",
     "text": [
      "\r",
      "Loss: 1.893437:  24%|███████████████▏                                                | 119/500 [00:13<00:40,  9.44it/s]"
     ]
    },
    {
     "name": "stderr",
     "output_type": "stream",
     "text": [
      "\r",
      "Loss: 1.886837:  24%|███████████████▏                                                | 119/500 [00:13<00:40,  9.44it/s]"
     ]
    },
    {
     "name": "stderr",
     "output_type": "stream",
     "text": [
      "\r",
      "Loss: 1.886837:  24%|███████████████▎                                                | 120/500 [00:13<00:41,  9.11it/s]"
     ]
    },
    {
     "name": "stderr",
     "output_type": "stream",
     "text": [
      "\r",
      "Loss: 1.940234:  24%|███████████████▎                                                | 120/500 [00:13<00:41,  9.11it/s]"
     ]
    },
    {
     "name": "stderr",
     "output_type": "stream",
     "text": [
      "\r",
      "Loss: 1.940234:  24%|███████████████▍                                                | 121/500 [00:13<00:42,  9.02it/s]"
     ]
    },
    {
     "name": "stderr",
     "output_type": "stream",
     "text": [
      "\r",
      "Loss: 1.923734:  24%|███████████████▍                                                | 121/500 [00:13<00:42,  9.02it/s]"
     ]
    },
    {
     "name": "stderr",
     "output_type": "stream",
     "text": [
      "\r",
      "Loss: 1.923734:  24%|███████████████▌                                                | 122/500 [00:13<00:41,  9.15it/s]"
     ]
    },
    {
     "name": "stderr",
     "output_type": "stream",
     "text": [
      "\r",
      "Loss: 2.009260:  24%|███████████████▌                                                | 122/500 [00:13<00:41,  9.15it/s]"
     ]
    },
    {
     "name": "stderr",
     "output_type": "stream",
     "text": [
      "\r",
      "Loss: 2.009260:  25%|███████████████▋                                                | 123/500 [00:13<00:40,  9.35it/s]"
     ]
    },
    {
     "name": "stderr",
     "output_type": "stream",
     "text": [
      "\r",
      "Loss: 2.018374:  25%|███████████████▋                                                | 123/500 [00:13<00:40,  9.35it/s]"
     ]
    },
    {
     "name": "stderr",
     "output_type": "stream",
     "text": [
      "\r",
      "Loss: 2.018374:  25%|███████████████▊                                                | 124/500 [00:13<00:39,  9.42it/s]"
     ]
    },
    {
     "name": "stderr",
     "output_type": "stream",
     "text": [
      "\r",
      "Loss: 1.887769:  25%|███████████████▊                                                | 124/500 [00:13<00:39,  9.42it/s]"
     ]
    },
    {
     "name": "stderr",
     "output_type": "stream",
     "text": [
      "\r",
      "Loss: 1.885639:  25%|███████████████▊                                                | 124/500 [00:13<00:39,  9.42it/s]"
     ]
    },
    {
     "name": "stderr",
     "output_type": "stream",
     "text": [
      "\r",
      "Loss: 1.885639:  25%|████████████████▏                                               | 126/500 [00:13<00:37,  9.96it/s]"
     ]
    },
    {
     "name": "stderr",
     "output_type": "stream",
     "text": [
      "\r",
      "Loss: 1.894332:  25%|████████████████▏                                               | 126/500 [00:14<00:37,  9.96it/s]"
     ]
    },
    {
     "name": "stderr",
     "output_type": "stream",
     "text": [
      "\r",
      "Loss: 1.894332:  25%|████████████████▎                                               | 127/500 [00:14<00:38,  9.63it/s]"
     ]
    },
    {
     "name": "stderr",
     "output_type": "stream",
     "text": [
      "\r",
      "Loss: 1.973882:  25%|████████████████▎                                               | 127/500 [00:14<00:38,  9.63it/s]"
     ]
    },
    {
     "name": "stderr",
     "output_type": "stream",
     "text": [
      "\r",
      "Loss: 1.877554:  25%|████████████████▎                                               | 127/500 [00:14<00:38,  9.63it/s]"
     ]
    },
    {
     "name": "stderr",
     "output_type": "stream",
     "text": [
      "\r",
      "Loss: 1.877554:  26%|████████████████▌                                               | 129/500 [00:14<00:37,  9.90it/s]"
     ]
    },
    {
     "name": "stderr",
     "output_type": "stream",
     "text": [
      "\r",
      "Loss: 1.895942:  26%|████████████████▌                                               | 129/500 [00:14<00:37,  9.90it/s]"
     ]
    },
    {
     "name": "stderr",
     "output_type": "stream",
     "text": [
      "\r",
      "Loss: 1.927545:  26%|████████████████▌                                               | 129/500 [00:14<00:37,  9.90it/s]"
     ]
    },
    {
     "name": "stderr",
     "output_type": "stream",
     "text": [
      "\r",
      "Loss: 1.927545:  26%|████████████████▊                                               | 131/500 [00:14<00:36, 10.24it/s]"
     ]
    },
    {
     "name": "stderr",
     "output_type": "stream",
     "text": [
      "\r",
      "Loss: 1.996274:  26%|████████████████▊                                               | 131/500 [00:14<00:36, 10.24it/s]"
     ]
    },
    {
     "name": "stderr",
     "output_type": "stream",
     "text": [
      "\r",
      "Loss: 1.935569:  26%|████████████████▊                                               | 131/500 [00:14<00:36, 10.24it/s]"
     ]
    },
    {
     "name": "stderr",
     "output_type": "stream",
     "text": [
      "\r",
      "Loss: 1.935569:  27%|█████████████████                                               | 133/500 [00:14<00:35, 10.27it/s]"
     ]
    },
    {
     "name": "stderr",
     "output_type": "stream",
     "text": [
      "\r",
      "Loss: 1.932342:  27%|█████████████████                                               | 133/500 [00:14<00:35, 10.27it/s]"
     ]
    },
    {
     "name": "stderr",
     "output_type": "stream",
     "text": [
      "\r",
      "Loss: 1.947683:  27%|█████████████████                                               | 133/500 [00:14<00:35, 10.27it/s]"
     ]
    },
    {
     "name": "stderr",
     "output_type": "stream",
     "text": [
      "\r",
      "Loss: 1.947683:  27%|█████████████████▎                                              | 135/500 [00:14<00:34, 10.46it/s]"
     ]
    },
    {
     "name": "stderr",
     "output_type": "stream",
     "text": [
      "\r",
      "Loss: 1.942850:  27%|█████████████████▎                                              | 135/500 [00:14<00:34, 10.46it/s]"
     ]
    },
    {
     "name": "stderr",
     "output_type": "stream",
     "text": [
      "\r",
      "Loss: 1.923895:  27%|█████████████████▎                                              | 135/500 [00:15<00:34, 10.46it/s]"
     ]
    },
    {
     "name": "stderr",
     "output_type": "stream",
     "text": [
      "\r",
      "Loss: 1.923895:  27%|█████████████████▌                                              | 137/500 [00:15<00:35, 10.15it/s]"
     ]
    },
    {
     "name": "stderr",
     "output_type": "stream",
     "text": [
      "\r",
      "Loss: 2.049729:  27%|█████████████████▌                                              | 137/500 [00:15<00:35, 10.15it/s]"
     ]
    },
    {
     "name": "stderr",
     "output_type": "stream",
     "text": [
      "\r",
      "Loss: 2.006394:  27%|█████████████████▌                                              | 137/500 [00:15<00:35, 10.15it/s]"
     ]
    },
    {
     "name": "stderr",
     "output_type": "stream",
     "text": [
      "\r",
      "Loss: 2.006394:  28%|█████████████████▊                                              | 139/500 [00:15<00:36,  9.95it/s]"
     ]
    },
    {
     "name": "stderr",
     "output_type": "stream",
     "text": [
      "\r",
      "Loss: 1.885176:  28%|█████████████████▊                                              | 139/500 [00:15<00:36,  9.95it/s]"
     ]
    },
    {
     "name": "stderr",
     "output_type": "stream",
     "text": [
      "\r",
      "Loss: 1.885176:  28%|█████████████████▉                                              | 140/500 [00:15<00:37,  9.72it/s]"
     ]
    },
    {
     "name": "stderr",
     "output_type": "stream",
     "text": [
      "\r",
      "Loss: 1.962106:  28%|█████████████████▉                                              | 140/500 [00:15<00:37,  9.72it/s]"
     ]
    },
    {
     "name": "stderr",
     "output_type": "stream",
     "text": [
      "\r",
      "Loss: 1.895363:  28%|█████████████████▉                                              | 140/500 [00:15<00:37,  9.72it/s]"
     ]
    },
    {
     "name": "stderr",
     "output_type": "stream",
     "text": [
      "\r",
      "Loss: 1.895363:  28%|██████████████████▏                                             | 142/500 [00:15<00:36,  9.71it/s]"
     ]
    },
    {
     "name": "stderr",
     "output_type": "stream",
     "text": [
      "\r",
      "Loss: 1.930835:  28%|██████████████████▏                                             | 142/500 [00:15<00:36,  9.71it/s]"
     ]
    },
    {
     "name": "stderr",
     "output_type": "stream",
     "text": [
      "\r",
      "Loss: 1.930835:  29%|██████████████████▎                                             | 143/500 [00:15<00:38,  9.30it/s]"
     ]
    },
    {
     "name": "stderr",
     "output_type": "stream",
     "text": [
      "\r",
      "Loss: 1.878725:  29%|██████████████████▎                                             | 143/500 [00:15<00:38,  9.30it/s]"
     ]
    },
    {
     "name": "stderr",
     "output_type": "stream",
     "text": [
      "\r",
      "Loss: 1.878725:  29%|██████████████████▍                                             | 144/500 [00:15<00:38,  9.34it/s]"
     ]
    },
    {
     "name": "stderr",
     "output_type": "stream",
     "text": [
      "\r",
      "Loss: 1.926329:  29%|██████████████████▍                                             | 144/500 [00:15<00:38,  9.34it/s]"
     ]
    },
    {
     "name": "stderr",
     "output_type": "stream",
     "text": [
      "\r",
      "Loss: 1.926329:  29%|██████████████████▌                                             | 145/500 [00:15<00:37,  9.36it/s]"
     ]
    },
    {
     "name": "stderr",
     "output_type": "stream",
     "text": [
      "\r",
      "Loss: 1.917893:  29%|██████████████████▌                                             | 145/500 [00:16<00:37,  9.36it/s]"
     ]
    },
    {
     "name": "stderr",
     "output_type": "stream",
     "text": [
      "\r",
      "Loss: 1.917893:  29%|██████████████████▋                                             | 146/500 [00:16<00:37,  9.44it/s]"
     ]
    },
    {
     "name": "stderr",
     "output_type": "stream",
     "text": [
      "\r",
      "Loss: 1.965033:  29%|██████████████████▋                                             | 146/500 [00:16<00:37,  9.44it/s]"
     ]
    },
    {
     "name": "stderr",
     "output_type": "stream",
     "text": [
      "\r",
      "Loss: 1.899563:  29%|██████████████████▋                                             | 146/500 [00:16<00:37,  9.44it/s]"
     ]
    },
    {
     "name": "stderr",
     "output_type": "stream",
     "text": [
      "\r",
      "Loss: 1.899563:  30%|██████████████████▉                                             | 148/500 [00:16<00:35,  9.98it/s]"
     ]
    },
    {
     "name": "stderr",
     "output_type": "stream",
     "text": [
      "\r",
      "Loss: 1.951717:  30%|██████████████████▉                                             | 148/500 [00:16<00:35,  9.98it/s]"
     ]
    },
    {
     "name": "stderr",
     "output_type": "stream",
     "text": [
      "\r",
      "Loss: 1.873789:  30%|██████████████████▉                                             | 148/500 [00:16<00:35,  9.98it/s]"
     ]
    },
    {
     "name": "stderr",
     "output_type": "stream",
     "text": [
      "\r",
      "Loss: 1.873789:  30%|███████████████████▏                                            | 150/500 [00:16<00:33, 10.33it/s]"
     ]
    },
    {
     "name": "stderr",
     "output_type": "stream",
     "text": [
      "\r",
      "Loss: 2.149632:  30%|███████████████████▏                                            | 150/500 [00:16<00:33, 10.33it/s]"
     ]
    },
    {
     "name": "stderr",
     "output_type": "stream",
     "text": [
      "\r",
      "Loss: 1.910349:  30%|███████████████████▏                                            | 150/500 [00:16<00:33, 10.33it/s]"
     ]
    },
    {
     "name": "stderr",
     "output_type": "stream",
     "text": [
      "\r",
      "Loss: 1.910349:  30%|███████████████████▍                                            | 152/500 [00:16<00:33, 10.26it/s]"
     ]
    },
    {
     "name": "stderr",
     "output_type": "stream",
     "text": [
      "\r",
      "Loss: 1.884665:  30%|███████████████████▍                                            | 152/500 [00:16<00:33, 10.26it/s]"
     ]
    },
    {
     "name": "stderr",
     "output_type": "stream",
     "text": [
      "\r",
      "Loss: 1.896514:  30%|███████████████████▍                                            | 152/500 [00:16<00:33, 10.26it/s]"
     ]
    },
    {
     "name": "stderr",
     "output_type": "stream",
     "text": [
      "\r",
      "Loss: 1.896514:  31%|███████████████████▋                                            | 154/500 [00:16<00:34, 10.02it/s]"
     ]
    },
    {
     "name": "stderr",
     "output_type": "stream",
     "text": [
      "\r",
      "Loss: 1.872916:  31%|███████████████████▋                                            | 154/500 [00:16<00:34, 10.02it/s]"
     ]
    },
    {
     "name": "stderr",
     "output_type": "stream",
     "text": [
      "\r",
      "Loss: 1.872916:  31%|███████████████████▊                                            | 155/500 [00:16<00:34,  9.90it/s]"
     ]
    },
    {
     "name": "stderr",
     "output_type": "stream",
     "text": [
      "\r",
      "Loss: 1.904104:  31%|███████████████████▊                                            | 155/500 [00:17<00:34,  9.90it/s]"
     ]
    },
    {
     "name": "stderr",
     "output_type": "stream",
     "text": [
      "\r",
      "Loss: 1.904104:  31%|███████████████████▉                                            | 156/500 [00:17<00:35,  9.62it/s]"
     ]
    },
    {
     "name": "stderr",
     "output_type": "stream",
     "text": [
      "\r",
      "Loss: 1.896591:  31%|███████████████████▉                                            | 156/500 [00:17<00:35,  9.62it/s]"
     ]
    },
    {
     "name": "stderr",
     "output_type": "stream",
     "text": [
      "\r",
      "Loss: 1.896591:  31%|████████████████████                                            | 157/500 [00:17<00:35,  9.59it/s]"
     ]
    },
    {
     "name": "stderr",
     "output_type": "stream",
     "text": [
      "\r",
      "Loss: 1.923120:  31%|████████████████████                                            | 157/500 [00:17<00:35,  9.59it/s]"
     ]
    },
    {
     "name": "stderr",
     "output_type": "stream",
     "text": [
      "\r",
      "Loss: 1.923120:  32%|████████████████████▏                                           | 158/500 [00:17<00:35,  9.57it/s]"
     ]
    },
    {
     "name": "stderr",
     "output_type": "stream",
     "text": [
      "\r",
      "Loss: 1.905976:  32%|████████████████████▏                                           | 158/500 [00:17<00:35,  9.57it/s]"
     ]
    },
    {
     "name": "stderr",
     "output_type": "stream",
     "text": [
      "\r",
      "Loss: 1.905976:  32%|████████████████████▎                                           | 159/500 [00:17<00:36,  9.32it/s]"
     ]
    },
    {
     "name": "stderr",
     "output_type": "stream",
     "text": [
      "\r",
      "Loss: 1.981400:  32%|████████████████████▎                                           | 159/500 [00:17<00:36,  9.32it/s]"
     ]
    },
    {
     "name": "stderr",
     "output_type": "stream",
     "text": [
      "\r",
      "Loss: 1.981400:  32%|████████████████████▍                                           | 160/500 [00:17<00:38,  8.83it/s]"
     ]
    },
    {
     "name": "stderr",
     "output_type": "stream",
     "text": [
      "\r",
      "Loss: 1.890367:  32%|████████████████████▍                                           | 160/500 [00:17<00:38,  8.83it/s]"
     ]
    },
    {
     "name": "stderr",
     "output_type": "stream",
     "text": [
      "\r",
      "Loss: 1.890367:  32%|████████████████████▌                                           | 161/500 [00:17<00:37,  9.09it/s]"
     ]
    },
    {
     "name": "stderr",
     "output_type": "stream",
     "text": [
      "\r",
      "Loss: 1.914485:  32%|████████████████████▌                                           | 161/500 [00:17<00:37,  9.09it/s]"
     ]
    },
    {
     "name": "stderr",
     "output_type": "stream",
     "text": [
      "\r",
      "Loss: 1.914485:  32%|████████████████████▋                                           | 162/500 [00:17<00:37,  8.96it/s]"
     ]
    },
    {
     "name": "stderr",
     "output_type": "stream",
     "text": [
      "\r",
      "Loss: 1.908643:  32%|████████████████████▋                                           | 162/500 [00:17<00:37,  8.96it/s]"
     ]
    },
    {
     "name": "stderr",
     "output_type": "stream",
     "text": [
      "\r",
      "Loss: 1.908643:  33%|████████████████████▊                                           | 163/500 [00:17<00:39,  8.53it/s]"
     ]
    },
    {
     "name": "stderr",
     "output_type": "stream",
     "text": [
      "\r",
      "Loss: 1.902517:  33%|████████████████████▊                                           | 163/500 [00:17<00:39,  8.53it/s]"
     ]
    },
    {
     "name": "stderr",
     "output_type": "stream",
     "text": [
      "\r",
      "Loss: 1.902517:  33%|████████████████████▉                                           | 164/500 [00:17<00:38,  8.62it/s]"
     ]
    },
    {
     "name": "stderr",
     "output_type": "stream",
     "text": [
      "\r",
      "Loss: 1.938689:  33%|████████████████████▉                                           | 164/500 [00:18<00:38,  8.62it/s]"
     ]
    },
    {
     "name": "stderr",
     "output_type": "stream",
     "text": [
      "\r",
      "Loss: 1.938689:  33%|█████████████████████                                           | 165/500 [00:18<00:37,  8.94it/s]"
     ]
    },
    {
     "name": "stderr",
     "output_type": "stream",
     "text": [
      "\r",
      "Loss: 1.944820:  33%|█████████████████████                                           | 165/500 [00:18<00:37,  8.94it/s]"
     ]
    },
    {
     "name": "stderr",
     "output_type": "stream",
     "text": [
      "\r",
      "Loss: 1.944820:  33%|█████████████████████▏                                          | 166/500 [00:18<00:36,  9.22it/s]"
     ]
    },
    {
     "name": "stderr",
     "output_type": "stream",
     "text": [
      "\r",
      "Loss: 1.869531:  33%|█████████████████████▏                                          | 166/500 [00:18<00:36,  9.22it/s]"
     ]
    },
    {
     "name": "stderr",
     "output_type": "stream",
     "text": [
      "\r",
      "Loss: 1.869531:  33%|█████████████████████▍                                          | 167/500 [00:18<00:35,  9.33it/s]"
     ]
    },
    {
     "name": "stderr",
     "output_type": "stream",
     "text": [
      "\r",
      "Loss: 1.885844:  33%|█████████████████████▍                                          | 167/500 [00:18<00:35,  9.33it/s]"
     ]
    },
    {
     "name": "stderr",
     "output_type": "stream",
     "text": [
      "\r",
      "Loss: 1.885844:  34%|█████████████████████▌                                          | 168/500 [00:18<00:35,  9.37it/s]"
     ]
    },
    {
     "name": "stderr",
     "output_type": "stream",
     "text": [
      "\r",
      "Loss: 1.868591:  34%|█████████████████████▌                                          | 168/500 [00:18<00:35,  9.37it/s]"
     ]
    },
    {
     "name": "stderr",
     "output_type": "stream",
     "text": [
      "\r",
      "Loss: 1.882604:  34%|█████████████████████▌                                          | 168/500 [00:18<00:35,  9.37it/s]"
     ]
    },
    {
     "name": "stderr",
     "output_type": "stream",
     "text": [
      "\r",
      "Loss: 1.882604:  34%|█████████████████████▊                                          | 170/500 [00:18<00:33,  9.88it/s]"
     ]
    },
    {
     "name": "stderr",
     "output_type": "stream",
     "text": [
      "\r",
      "Loss: 1.874676:  34%|█████████████████████▊                                          | 170/500 [00:18<00:33,  9.88it/s]"
     ]
    },
    {
     "name": "stderr",
     "output_type": "stream",
     "text": [
      "\r",
      "Loss: 1.874676:  34%|█████████████████████▉                                          | 171/500 [00:18<00:35,  9.30it/s]"
     ]
    },
    {
     "name": "stderr",
     "output_type": "stream",
     "text": [
      "\r",
      "Loss: 1.838660:  34%|█████████████████████▉                                          | 171/500 [00:18<00:35,  9.30it/s]"
     ]
    },
    {
     "name": "stderr",
     "output_type": "stream",
     "text": [
      "\r",
      "Loss: 1.838660:  34%|██████████████████████                                          | 172/500 [00:18<00:37,  8.67it/s]"
     ]
    },
    {
     "name": "stderr",
     "output_type": "stream",
     "text": [
      "\r",
      "Loss: 1.912459:  34%|██████████████████████                                          | 172/500 [00:18<00:37,  8.67it/s]"
     ]
    },
    {
     "name": "stderr",
     "output_type": "stream",
     "text": [
      "\r",
      "Loss: 1.912459:  35%|██████████████████████▏                                         | 173/500 [00:18<00:38,  8.48it/s]"
     ]
    },
    {
     "name": "stderr",
     "output_type": "stream",
     "text": [
      "\r",
      "Loss: 1.941418:  35%|██████████████████████▏                                         | 173/500 [00:19<00:38,  8.48it/s]"
     ]
    },
    {
     "name": "stderr",
     "output_type": "stream",
     "text": [
      "\r",
      "Loss: 1.941418:  35%|██████████████████████▎                                         | 174/500 [00:19<00:38,  8.54it/s]"
     ]
    },
    {
     "name": "stderr",
     "output_type": "stream",
     "text": [
      "\r",
      "Loss: 1.951330:  35%|██████████████████████▎                                         | 174/500 [00:19<00:38,  8.54it/s]"
     ]
    },
    {
     "name": "stderr",
     "output_type": "stream",
     "text": [
      "\r",
      "Loss: 1.951330:  35%|██████████████████████▍                                         | 175/500 [00:19<00:37,  8.57it/s]"
     ]
    },
    {
     "name": "stderr",
     "output_type": "stream",
     "text": [
      "\r",
      "Loss: 1.892061:  35%|██████████████████████▍                                         | 175/500 [00:19<00:37,  8.57it/s]"
     ]
    },
    {
     "name": "stderr",
     "output_type": "stream",
     "text": [
      "\r",
      "Loss: 1.892061:  35%|██████████████████████▌                                         | 176/500 [00:19<00:38,  8.43it/s]"
     ]
    },
    {
     "name": "stderr",
     "output_type": "stream",
     "text": [
      "\r",
      "Loss: 1.899011:  35%|██████████████████████▌                                         | 176/500 [00:19<00:38,  8.43it/s]"
     ]
    },
    {
     "name": "stderr",
     "output_type": "stream",
     "text": [
      "\r",
      "Loss: 1.899011:  35%|██████████████████████▋                                         | 177/500 [00:19<00:37,  8.50it/s]"
     ]
    },
    {
     "name": "stderr",
     "output_type": "stream",
     "text": [
      "\r",
      "Loss: 1.994812:  35%|██████████████████████▋                                         | 177/500 [00:19<00:37,  8.50it/s]"
     ]
    },
    {
     "name": "stderr",
     "output_type": "stream",
     "text": [
      "\r",
      "Loss: 1.994812:  36%|██████████████████████▊                                         | 178/500 [00:19<00:38,  8.26it/s]"
     ]
    },
    {
     "name": "stderr",
     "output_type": "stream",
     "text": [
      "\r",
      "Loss: 1.834425:  36%|██████████████████████▊                                         | 178/500 [00:19<00:38,  8.26it/s]"
     ]
    },
    {
     "name": "stderr",
     "output_type": "stream",
     "text": [
      "\r",
      "Loss: 1.834425:  36%|██████████████████████▉                                         | 179/500 [00:19<00:39,  8.04it/s]"
     ]
    },
    {
     "name": "stderr",
     "output_type": "stream",
     "text": [
      "\r",
      "Loss: 1.894328:  36%|██████████████████████▉                                         | 179/500 [00:19<00:39,  8.04it/s]"
     ]
    },
    {
     "name": "stderr",
     "output_type": "stream",
     "text": [
      "\r",
      "Loss: 1.894328:  36%|███████████████████████                                         | 180/500 [00:19<00:38,  8.37it/s]"
     ]
    },
    {
     "name": "stderr",
     "output_type": "stream",
     "text": [
      "\r",
      "Loss: 1.859697:  36%|███████████████████████                                         | 180/500 [00:19<00:38,  8.37it/s]"
     ]
    },
    {
     "name": "stderr",
     "output_type": "stream",
     "text": [
      "\r",
      "Loss: 1.930571:  36%|███████████████████████                                         | 180/500 [00:19<00:38,  8.37it/s]"
     ]
    },
    {
     "name": "stderr",
     "output_type": "stream",
     "text": [
      "\r",
      "Loss: 1.930571:  36%|███████████████████████▎                                        | 182/500 [00:19<00:35,  8.85it/s]"
     ]
    },
    {
     "name": "stderr",
     "output_type": "stream",
     "text": [
      "\r",
      "Loss: 1.849519:  36%|███████████████████████▎                                        | 182/500 [00:20<00:35,  8.85it/s]"
     ]
    },
    {
     "name": "stderr",
     "output_type": "stream",
     "text": [
      "\r",
      "Loss: 1.849519:  37%|███████████████████████▍                                        | 183/500 [00:20<00:36,  8.63it/s]"
     ]
    },
    {
     "name": "stderr",
     "output_type": "stream",
     "text": [
      "\r",
      "Loss: 1.834226:  37%|███████████████████████▍                                        | 183/500 [00:20<00:36,  8.63it/s]"
     ]
    },
    {
     "name": "stderr",
     "output_type": "stream",
     "text": [
      "\r",
      "Loss: 1.907149:  37%|███████████████████████▍                                        | 183/500 [00:20<00:36,  8.63it/s]"
     ]
    },
    {
     "name": "stderr",
     "output_type": "stream",
     "text": [
      "\r",
      "Loss: 1.907149:  37%|███████████████████████▋                                        | 185/500 [00:20<00:33,  9.30it/s]"
     ]
    },
    {
     "name": "stderr",
     "output_type": "stream",
     "text": [
      "\r",
      "Loss: 1.883680:  37%|███████████████████████▋                                        | 185/500 [00:20<00:33,  9.30it/s]"
     ]
    },
    {
     "name": "stderr",
     "output_type": "stream",
     "text": [
      "\r",
      "Loss: 1.883680:  37%|███████████████████████▊                                        | 186/500 [00:20<00:33,  9.40it/s]"
     ]
    },
    {
     "name": "stderr",
     "output_type": "stream",
     "text": [
      "\r",
      "Loss: 1.874219:  37%|███████████████████████▊                                        | 186/500 [00:20<00:33,  9.40it/s]"
     ]
    },
    {
     "name": "stderr",
     "output_type": "stream",
     "text": [
      "\r",
      "Loss: 1.901924:  37%|███████████████████████▊                                        | 186/500 [00:20<00:33,  9.40it/s]"
     ]
    },
    {
     "name": "stderr",
     "output_type": "stream",
     "text": [
      "\r",
      "Loss: 1.901924:  38%|████████████████████████                                        | 188/500 [00:20<00:32,  9.58it/s]"
     ]
    },
    {
     "name": "stderr",
     "output_type": "stream",
     "text": [
      "\r",
      "Loss: 1.896423:  38%|████████████████████████                                        | 188/500 [00:20<00:32,  9.58it/s]"
     ]
    },
    {
     "name": "stderr",
     "output_type": "stream",
     "text": [
      "\r",
      "Loss: 1.896423:  38%|████████████████████████▏                                       | 189/500 [00:20<00:32,  9.60it/s]"
     ]
    },
    {
     "name": "stderr",
     "output_type": "stream",
     "text": [
      "\r",
      "Loss: 1.874609:  38%|████████████████████████▏                                       | 189/500 [00:20<00:32,  9.60it/s]"
     ]
    },
    {
     "name": "stderr",
     "output_type": "stream",
     "text": [
      "\r",
      "Loss: 1.874609:  38%|████████████████████████▎                                       | 190/500 [00:20<00:32,  9.45it/s]"
     ]
    },
    {
     "name": "stderr",
     "output_type": "stream",
     "text": [
      "\r",
      "Loss: 1.851336:  38%|████████████████████████▎                                       | 190/500 [00:20<00:32,  9.45it/s]"
     ]
    },
    {
     "name": "stderr",
     "output_type": "stream",
     "text": [
      "\r",
      "Loss: 1.851336:  38%|████████████████████████▍                                       | 191/500 [00:20<00:33,  9.16it/s]"
     ]
    },
    {
     "name": "stderr",
     "output_type": "stream",
     "text": [
      "\r",
      "Loss: 1.885112:  38%|████████████████████████▍                                       | 191/500 [00:21<00:33,  9.16it/s]"
     ]
    },
    {
     "name": "stderr",
     "output_type": "stream",
     "text": [
      "\r",
      "Loss: 1.885112:  38%|████████████████████████▌                                       | 192/500 [00:21<00:34,  9.02it/s]"
     ]
    },
    {
     "name": "stderr",
     "output_type": "stream",
     "text": [
      "\r",
      "Loss: 1.842117:  38%|████████████████████████▌                                       | 192/500 [00:21<00:34,  9.02it/s]"
     ]
    },
    {
     "name": "stderr",
     "output_type": "stream",
     "text": [
      "\r",
      "Loss: 1.842117:  39%|████████████████████████▋                                       | 193/500 [00:21<00:33,  9.23it/s]"
     ]
    },
    {
     "name": "stderr",
     "output_type": "stream",
     "text": [
      "\r",
      "Loss: 1.877133:  39%|████████████████████████▋                                       | 193/500 [00:21<00:33,  9.23it/s]"
     ]
    },
    {
     "name": "stderr",
     "output_type": "stream",
     "text": [
      "\r",
      "Loss: 1.877133:  39%|████████████████████████▊                                       | 194/500 [00:21<00:33,  9.25it/s]"
     ]
    },
    {
     "name": "stderr",
     "output_type": "stream",
     "text": [
      "\r",
      "Loss: 1.851339:  39%|████████████████████████▊                                       | 194/500 [00:21<00:33,  9.25it/s]"
     ]
    },
    {
     "name": "stderr",
     "output_type": "stream",
     "text": [
      "\r",
      "Loss: 1.886343:  39%|████████████████████████▊                                       | 194/500 [00:21<00:33,  9.25it/s]"
     ]
    },
    {
     "name": "stderr",
     "output_type": "stream",
     "text": [
      "\r",
      "Loss: 1.886343:  39%|█████████████████████████                                       | 196/500 [00:21<00:31,  9.69it/s]"
     ]
    },
    {
     "name": "stderr",
     "output_type": "stream",
     "text": [
      "\r",
      "Loss: 1.873197:  39%|█████████████████████████                                       | 196/500 [00:21<00:31,  9.69it/s]"
     ]
    },
    {
     "name": "stderr",
     "output_type": "stream",
     "text": [
      "\r",
      "Loss: 1.873197:  39%|█████████████████████████▏                                      | 197/500 [00:21<00:31,  9.73it/s]"
     ]
    },
    {
     "name": "stderr",
     "output_type": "stream",
     "text": [
      "\r",
      "Loss: 1.853269:  39%|█████████████████████████▏                                      | 197/500 [00:21<00:31,  9.73it/s]"
     ]
    },
    {
     "name": "stderr",
     "output_type": "stream",
     "text": [
      "\r",
      "Loss: 1.899063:  39%|█████████████████████████▏                                      | 197/500 [00:21<00:31,  9.73it/s]"
     ]
    },
    {
     "name": "stderr",
     "output_type": "stream",
     "text": [
      "\r",
      "Loss: 1.899063:  40%|█████████████████████████▍                                      | 199/500 [00:21<00:29, 10.06it/s]"
     ]
    },
    {
     "name": "stderr",
     "output_type": "stream",
     "text": [
      "\r",
      "Loss: 1.858070:  40%|█████████████████████████▍                                      | 199/500 [00:21<00:29, 10.06it/s]"
     ]
    },
    {
     "name": "stderr",
     "output_type": "stream",
     "text": [
      "\r",
      "Loss: 1.858070:  40%|█████████████████████████▌                                      | 200/500 [00:21<00:30,  9.76it/s]"
     ]
    },
    {
     "name": "stderr",
     "output_type": "stream",
     "text": [
      "\r",
      "Loss: 1.850399:  40%|█████████████████████████▌                                      | 200/500 [00:21<00:30,  9.76it/s]"
     ]
    },
    {
     "name": "stderr",
     "output_type": "stream",
     "text": [
      "\r",
      "Loss: 1.885630:  40%|█████████████████████████▌                                      | 200/500 [00:22<00:30,  9.76it/s]"
     ]
    },
    {
     "name": "stderr",
     "output_type": "stream",
     "text": [
      "\r",
      "Loss: 1.885630:  40%|█████████████████████████▊                                      | 202/500 [00:22<00:30,  9.70it/s]"
     ]
    },
    {
     "name": "stderr",
     "output_type": "stream",
     "text": [
      "\r",
      "Loss: 1.859443:  40%|█████████████████████████▊                                      | 202/500 [00:22<00:30,  9.70it/s]"
     ]
    },
    {
     "name": "stderr",
     "output_type": "stream",
     "text": [
      "\r",
      "Loss: 1.859443:  41%|█████████████████████████▉                                      | 203/500 [00:22<00:30,  9.72it/s]"
     ]
    },
    {
     "name": "stderr",
     "output_type": "stream",
     "text": [
      "\r",
      "Loss: 1.858453:  41%|█████████████████████████▉                                      | 203/500 [00:22<00:30,  9.72it/s]"
     ]
    },
    {
     "name": "stderr",
     "output_type": "stream",
     "text": [
      "\r",
      "Loss: 1.858453:  41%|██████████████████████████                                      | 204/500 [00:22<00:30,  9.78it/s]"
     ]
    },
    {
     "name": "stderr",
     "output_type": "stream",
     "text": [
      "\r",
      "Loss: 1.868874:  41%|██████████████████████████                                      | 204/500 [00:22<00:30,  9.78it/s]"
     ]
    },
    {
     "name": "stderr",
     "output_type": "stream",
     "text": [
      "\r",
      "Loss: 1.845952:  41%|██████████████████████████                                      | 204/500 [00:22<00:30,  9.78it/s]"
     ]
    },
    {
     "name": "stderr",
     "output_type": "stream",
     "text": [
      "\r",
      "Loss: 1.845952:  41%|██████████████████████████▎                                     | 206/500 [00:22<00:30,  9.72it/s]"
     ]
    },
    {
     "name": "stderr",
     "output_type": "stream",
     "text": [
      "\r",
      "Loss: 1.880593:  41%|██████████████████████████▎                                     | 206/500 [00:22<00:30,  9.72it/s]"
     ]
    },
    {
     "name": "stderr",
     "output_type": "stream",
     "text": [
      "\r",
      "Loss: 1.862171:  41%|██████████████████████████▎                                     | 206/500 [00:22<00:30,  9.72it/s]"
     ]
    },
    {
     "name": "stderr",
     "output_type": "stream",
     "text": [
      "\r",
      "Loss: 1.862171:  42%|██████████████████████████▌                                     | 208/500 [00:22<00:29,  9.95it/s]"
     ]
    },
    {
     "name": "stderr",
     "output_type": "stream",
     "text": [
      "\r",
      "Loss: 1.859123:  42%|██████████████████████████▌                                     | 208/500 [00:22<00:29,  9.95it/s]"
     ]
    },
    {
     "name": "stderr",
     "output_type": "stream",
     "text": [
      "\r",
      "Loss: 1.873094:  42%|██████████████████████████▌                                     | 208/500 [00:22<00:29,  9.95it/s]"
     ]
    },
    {
     "name": "stderr",
     "output_type": "stream",
     "text": [
      "\r",
      "Loss: 1.873094:  42%|██████████████████████████▉                                     | 210/500 [00:22<00:28, 10.10it/s]"
     ]
    },
    {
     "name": "stderr",
     "output_type": "stream",
     "text": [
      "\r",
      "Loss: 1.843731:  42%|██████████████████████████▉                                     | 210/500 [00:22<00:28, 10.10it/s]"
     ]
    },
    {
     "name": "stderr",
     "output_type": "stream",
     "text": [
      "\r",
      "Loss: 1.832634:  42%|██████████████████████████▉                                     | 210/500 [00:23<00:28, 10.10it/s]"
     ]
    },
    {
     "name": "stderr",
     "output_type": "stream",
     "text": [
      "\r",
      "Loss: 1.832634:  42%|███████████████████████████▏                                    | 212/500 [00:23<00:28, 10.11it/s]"
     ]
    },
    {
     "name": "stderr",
     "output_type": "stream",
     "text": [
      "\r",
      "Loss: 1.845271:  42%|███████████████████████████▏                                    | 212/500 [00:23<00:28, 10.11it/s]"
     ]
    },
    {
     "name": "stderr",
     "output_type": "stream",
     "text": [
      "\r",
      "Loss: 1.856044:  42%|███████████████████████████▏                                    | 212/500 [00:23<00:28, 10.11it/s]"
     ]
    },
    {
     "name": "stderr",
     "output_type": "stream",
     "text": [
      "\r",
      "Loss: 1.856044:  43%|███████████████████████████▍                                    | 214/500 [00:23<00:28, 10.11it/s]"
     ]
    },
    {
     "name": "stderr",
     "output_type": "stream",
     "text": [
      "\r",
      "Loss: 1.816620:  43%|███████████████████████████▍                                    | 214/500 [00:23<00:28, 10.11it/s]"
     ]
    },
    {
     "name": "stderr",
     "output_type": "stream",
     "text": [
      "\r",
      "Loss: 1.838553:  43%|███████████████████████████▍                                    | 214/500 [00:23<00:28, 10.11it/s]"
     ]
    },
    {
     "name": "stderr",
     "output_type": "stream",
     "text": [
      "\r",
      "Loss: 1.838553:  43%|███████████████████████████▋                                    | 216/500 [00:23<00:29,  9.74it/s]"
     ]
    },
    {
     "name": "stderr",
     "output_type": "stream",
     "text": [
      "\r",
      "Loss: 1.846230:  43%|███████████████████████████▋                                    | 216/500 [00:23<00:29,  9.74it/s]"
     ]
    },
    {
     "name": "stderr",
     "output_type": "stream",
     "text": [
      "\r",
      "Loss: 1.860230:  43%|███████████████████████████▋                                    | 216/500 [00:23<00:29,  9.74it/s]"
     ]
    },
    {
     "name": "stderr",
     "output_type": "stream",
     "text": [
      "\r",
      "Loss: 1.860230:  44%|███████████████████████████▉                                    | 218/500 [00:23<00:28,  9.79it/s]"
     ]
    },
    {
     "name": "stderr",
     "output_type": "stream",
     "text": [
      "\r",
      "Loss: 1.835058:  44%|███████████████████████████▉                                    | 218/500 [00:23<00:28,  9.79it/s]"
     ]
    },
    {
     "name": "stderr",
     "output_type": "stream",
     "text": [
      "\r",
      "Loss: 1.835058:  44%|████████████████████████████                                    | 219/500 [00:23<00:28,  9.74it/s]"
     ]
    },
    {
     "name": "stderr",
     "output_type": "stream",
     "text": [
      "\r",
      "Loss: 1.847517:  44%|████████████████████████████                                    | 219/500 [00:23<00:28,  9.74it/s]"
     ]
    },
    {
     "name": "stderr",
     "output_type": "stream",
     "text": [
      "\r",
      "Loss: 1.847517:  44%|████████████████████████████▏                                   | 220/500 [00:23<00:29,  9.46it/s]"
     ]
    },
    {
     "name": "stderr",
     "output_type": "stream",
     "text": [
      "\r",
      "Loss: 1.871986:  44%|████████████████████████████▏                                   | 220/500 [00:23<00:29,  9.46it/s]"
     ]
    },
    {
     "name": "stderr",
     "output_type": "stream",
     "text": [
      "\r",
      "Loss: 2.002584:  44%|████████████████████████████▏                                   | 220/500 [00:24<00:29,  9.46it/s]"
     ]
    },
    {
     "name": "stderr",
     "output_type": "stream",
     "text": [
      "\r",
      "Loss: 2.002584:  44%|████████████████████████████▍                                   | 222/500 [00:24<00:28,  9.65it/s]"
     ]
    },
    {
     "name": "stderr",
     "output_type": "stream",
     "text": [
      "\r",
      "Loss: 1.850001:  44%|████████████████████████████▍                                   | 222/500 [00:24<00:28,  9.65it/s]"
     ]
    },
    {
     "name": "stderr",
     "output_type": "stream",
     "text": [
      "\r",
      "Loss: 1.850001:  45%|████████████████████████████▌                                   | 223/500 [00:24<00:28,  9.62it/s]"
     ]
    },
    {
     "name": "stderr",
     "output_type": "stream",
     "text": [
      "\r",
      "Loss: 1.861858:  45%|████████████████████████████▌                                   | 223/500 [00:24<00:28,  9.62it/s]"
     ]
    },
    {
     "name": "stderr",
     "output_type": "stream",
     "text": [
      "\r",
      "Loss: 1.861858:  45%|████████████████████████████▋                                   | 224/500 [00:24<00:29,  9.40it/s]"
     ]
    },
    {
     "name": "stderr",
     "output_type": "stream",
     "text": [
      "\r",
      "Loss: 1.847600:  45%|████████████████████████████▋                                   | 224/500 [00:24<00:29,  9.40it/s]"
     ]
    },
    {
     "name": "stderr",
     "output_type": "stream",
     "text": [
      "\r",
      "Loss: 1.817360:  45%|████████████████████████████▋                                   | 224/500 [00:24<00:29,  9.40it/s]"
     ]
    },
    {
     "name": "stderr",
     "output_type": "stream",
     "text": [
      "\r",
      "Loss: 1.817360:  45%|████████████████████████████▉                                   | 226/500 [00:24<00:28,  9.69it/s]"
     ]
    },
    {
     "name": "stderr",
     "output_type": "stream",
     "text": [
      "\r",
      "Loss: 1.826112:  45%|████████████████████████████▉                                   | 226/500 [00:24<00:28,  9.69it/s]"
     ]
    },
    {
     "name": "stderr",
     "output_type": "stream",
     "text": [
      "\r",
      "Loss: 1.826112:  45%|█████████████████████████████                                   | 227/500 [00:24<00:29,  9.36it/s]"
     ]
    },
    {
     "name": "stderr",
     "output_type": "stream",
     "text": [
      "\r",
      "Loss: 1.851535:  45%|█████████████████████████████                                   | 227/500 [00:24<00:29,  9.36it/s]"
     ]
    },
    {
     "name": "stderr",
     "output_type": "stream",
     "text": [
      "\r",
      "Loss: 1.851535:  46%|█████████████████████████████▏                                  | 228/500 [00:24<00:28,  9.47it/s]"
     ]
    },
    {
     "name": "stderr",
     "output_type": "stream",
     "text": [
      "\r",
      "Loss: 1.849933:  46%|█████████████████████████████▏                                  | 228/500 [00:24<00:28,  9.47it/s]"
     ]
    },
    {
     "name": "stderr",
     "output_type": "stream",
     "text": [
      "\r",
      "Loss: 1.895569:  46%|█████████████████████████████▏                                  | 228/500 [00:24<00:28,  9.47it/s]"
     ]
    },
    {
     "name": "stderr",
     "output_type": "stream",
     "text": [
      "\r",
      "Loss: 1.895569:  46%|█████████████████████████████▍                                  | 230/500 [00:24<00:27,  9.80it/s]"
     ]
    },
    {
     "name": "stderr",
     "output_type": "stream",
     "text": [
      "\r",
      "Loss: 1.915155:  46%|█████████████████████████████▍                                  | 230/500 [00:25<00:27,  9.80it/s]"
     ]
    },
    {
     "name": "stderr",
     "output_type": "stream",
     "text": [
      "\r",
      "Loss: 1.915155:  46%|█████████████████████████████▌                                  | 231/500 [00:25<00:27,  9.66it/s]"
     ]
    },
    {
     "name": "stderr",
     "output_type": "stream",
     "text": [
      "\r",
      "Loss: 1.896703:  46%|█████████████████████████████▌                                  | 231/500 [00:25<00:27,  9.66it/s]"
     ]
    },
    {
     "name": "stderr",
     "output_type": "stream",
     "text": [
      "\r",
      "Loss: 1.846282:  46%|█████████████████████████████▌                                  | 231/500 [00:25<00:27,  9.66it/s]"
     ]
    },
    {
     "name": "stderr",
     "output_type": "stream",
     "text": [
      "\r",
      "Loss: 1.846282:  47%|█████████████████████████████▊                                  | 233/500 [00:25<00:27,  9.83it/s]"
     ]
    },
    {
     "name": "stderr",
     "output_type": "stream",
     "text": [
      "\r",
      "Loss: 1.866060:  47%|█████████████████████████████▊                                  | 233/500 [00:25<00:27,  9.83it/s]"
     ]
    },
    {
     "name": "stderr",
     "output_type": "stream",
     "text": [
      "\r",
      "Loss: 1.871412:  47%|█████████████████████████████▊                                  | 233/500 [00:25<00:27,  9.83it/s]"
     ]
    },
    {
     "name": "stderr",
     "output_type": "stream",
     "text": [
      "\r",
      "Loss: 1.871412:  47%|██████████████████████████████                                  | 235/500 [00:25<00:26,  9.85it/s]"
     ]
    },
    {
     "name": "stderr",
     "output_type": "stream",
     "text": [
      "\r",
      "Loss: 1.806862:  47%|██████████████████████████████                                  | 235/500 [00:25<00:26,  9.85it/s]"
     ]
    },
    {
     "name": "stderr",
     "output_type": "stream",
     "text": [
      "\r",
      "Loss: 1.812692:  47%|██████████████████████████████                                  | 235/500 [00:25<00:26,  9.85it/s]"
     ]
    },
    {
     "name": "stderr",
     "output_type": "stream",
     "text": [
      "\r",
      "Loss: 1.812692:  47%|██████████████████████████████▎                                 | 237/500 [00:25<00:26,  9.80it/s]"
     ]
    },
    {
     "name": "stderr",
     "output_type": "stream",
     "text": [
      "\r",
      "Loss: 1.818969:  47%|██████████████████████████████▎                                 | 237/500 [00:25<00:26,  9.80it/s]"
     ]
    },
    {
     "name": "stderr",
     "output_type": "stream",
     "text": [
      "\r",
      "Loss: 1.818969:  48%|██████████████████████████████▍                                 | 238/500 [00:25<00:26,  9.71it/s]"
     ]
    },
    {
     "name": "stderr",
     "output_type": "stream",
     "text": [
      "\r",
      "Loss: 1.815521:  48%|██████████████████████████████▍                                 | 238/500 [00:25<00:26,  9.71it/s]"
     ]
    },
    {
     "name": "stderr",
     "output_type": "stream",
     "text": [
      "\r",
      "Loss: 1.834933:  48%|██████████████████████████████▍                                 | 238/500 [00:25<00:26,  9.71it/s]"
     ]
    },
    {
     "name": "stderr",
     "output_type": "stream",
     "text": [
      "\r",
      "Loss: 1.834933:  48%|██████████████████████████████▋                                 | 240/500 [00:25<00:26,  9.81it/s]"
     ]
    },
    {
     "name": "stderr",
     "output_type": "stream",
     "text": [
      "\r",
      "Loss: 2.042210:  48%|██████████████████████████████▋                                 | 240/500 [00:26<00:26,  9.81it/s]"
     ]
    },
    {
     "name": "stderr",
     "output_type": "stream",
     "text": [
      "\r",
      "Loss: 2.042210:  48%|██████████████████████████████▊                                 | 241/500 [00:26<00:26,  9.65it/s]"
     ]
    },
    {
     "name": "stderr",
     "output_type": "stream",
     "text": [
      "\r",
      "Loss: 1.821453:  48%|██████████████████████████████▊                                 | 241/500 [00:26<00:26,  9.65it/s]"
     ]
    },
    {
     "name": "stderr",
     "output_type": "stream",
     "text": [
      "\r",
      "Loss: 1.821453:  48%|██████████████████████████████▉                                 | 242/500 [00:26<00:27,  9.42it/s]"
     ]
    },
    {
     "name": "stderr",
     "output_type": "stream",
     "text": [
      "\r",
      "Loss: 1.846769:  48%|██████████████████████████████▉                                 | 242/500 [00:26<00:27,  9.42it/s]"
     ]
    },
    {
     "name": "stderr",
     "output_type": "stream",
     "text": [
      "\r",
      "Loss: 1.846769:  49%|███████████████████████████████                                 | 243/500 [00:26<00:27,  9.38it/s]"
     ]
    },
    {
     "name": "stderr",
     "output_type": "stream",
     "text": [
      "\r",
      "Loss: 1.866137:  49%|███████████████████████████████                                 | 243/500 [00:26<00:27,  9.38it/s]"
     ]
    },
    {
     "name": "stderr",
     "output_type": "stream",
     "text": [
      "\r",
      "Loss: 1.847517:  49%|███████████████████████████████                                 | 243/500 [00:26<00:27,  9.38it/s]"
     ]
    },
    {
     "name": "stderr",
     "output_type": "stream",
     "text": [
      "\r",
      "Loss: 1.847517:  49%|███████████████████████████████▎                                | 245/500 [00:26<00:26,  9.58it/s]"
     ]
    },
    {
     "name": "stderr",
     "output_type": "stream",
     "text": [
      "\r",
      "Loss: 1.852083:  49%|███████████████████████████████▎                                | 245/500 [00:26<00:26,  9.58it/s]"
     ]
    },
    {
     "name": "stderr",
     "output_type": "stream",
     "text": [
      "\r",
      "Loss: 1.838806:  49%|███████████████████████████████▎                                | 245/500 [00:26<00:26,  9.58it/s]"
     ]
    },
    {
     "name": "stderr",
     "output_type": "stream",
     "text": [
      "\r",
      "Loss: 1.838806:  49%|███████████████████████████████▌                                | 247/500 [00:26<00:26,  9.50it/s]"
     ]
    },
    {
     "name": "stderr",
     "output_type": "stream",
     "text": [
      "\r",
      "Loss: 1.858193:  49%|███████████████████████████████▌                                | 247/500 [00:26<00:26,  9.50it/s]"
     ]
    },
    {
     "name": "stderr",
     "output_type": "stream",
     "text": [
      "\r",
      "Loss: 1.866201:  49%|███████████████████████████████▌                                | 247/500 [00:26<00:26,  9.50it/s]"
     ]
    },
    {
     "name": "stderr",
     "output_type": "stream",
     "text": [
      "\r",
      "Loss: 1.866201:  50%|███████████████████████████████▊                                | 249/500 [00:26<00:26,  9.62it/s]"
     ]
    },
    {
     "name": "stderr",
     "output_type": "stream",
     "text": [
      "\r",
      "Loss: 1.822089:  50%|███████████████████████████████▊                                | 249/500 [00:26<00:26,  9.62it/s]"
     ]
    },
    {
     "name": "stderr",
     "output_type": "stream",
     "text": [
      "\r",
      "Loss: 1.822089:  50%|████████████████████████████████                                | 250/500 [00:27<00:26,  9.53it/s]"
     ]
    },
    {
     "name": "stderr",
     "output_type": "stream",
     "text": [
      "\r",
      "Loss: 1.856161:  50%|████████████████████████████████                                | 250/500 [00:27<00:26,  9.53it/s]"
     ]
    },
    {
     "name": "stderr",
     "output_type": "stream",
     "text": [
      "\r",
      "Loss: 1.856161:  50%|████████████████████████████████▏                               | 251/500 [00:27<00:26,  9.50it/s]"
     ]
    },
    {
     "name": "stderr",
     "output_type": "stream",
     "text": [
      "\r",
      "Loss: 1.865959:  50%|████████████████████████████████▏                               | 251/500 [00:27<00:26,  9.50it/s]"
     ]
    },
    {
     "name": "stderr",
     "output_type": "stream",
     "text": [
      "\r",
      "Loss: 1.865959:  50%|████████████████████████████████▎                               | 252/500 [00:27<00:26,  9.52it/s]"
     ]
    },
    {
     "name": "stderr",
     "output_type": "stream",
     "text": [
      "\r",
      "Loss: 1.832949:  50%|████████████████████████████████▎                               | 252/500 [00:27<00:26,  9.52it/s]"
     ]
    },
    {
     "name": "stderr",
     "output_type": "stream",
     "text": [
      "\r",
      "Loss: 1.858352:  50%|████████████████████████████████▎                               | 252/500 [00:27<00:26,  9.52it/s]"
     ]
    },
    {
     "name": "stderr",
     "output_type": "stream",
     "text": [
      "\r",
      "Loss: 1.858352:  51%|████████████████████████████████▌                               | 254/500 [00:27<00:25,  9.61it/s]"
     ]
    },
    {
     "name": "stderr",
     "output_type": "stream",
     "text": [
      "\r",
      "Loss: 1.840276:  51%|████████████████████████████████▌                               | 254/500 [00:27<00:25,  9.61it/s]"
     ]
    },
    {
     "name": "stderr",
     "output_type": "stream",
     "text": [
      "\r",
      "Loss: 1.907697:  51%|████████████████████████████████▌                               | 254/500 [00:27<00:25,  9.61it/s]"
     ]
    },
    {
     "name": "stderr",
     "output_type": "stream",
     "text": [
      "\r",
      "Loss: 1.907697:  51%|████████████████████████████████▊                               | 256/500 [00:27<00:25,  9.58it/s]"
     ]
    },
    {
     "name": "stderr",
     "output_type": "stream",
     "text": [
      "\r",
      "Loss: 1.841687:  51%|████████████████████████████████▊                               | 256/500 [00:27<00:25,  9.58it/s]"
     ]
    },
    {
     "name": "stderr",
     "output_type": "stream",
     "text": [
      "\r",
      "Loss: 1.861297:  51%|████████████████████████████████▊                               | 256/500 [00:27<00:25,  9.58it/s]"
     ]
    },
    {
     "name": "stderr",
     "output_type": "stream",
     "text": [
      "\r",
      "Loss: 1.861297:  52%|█████████████████████████████████                               | 258/500 [00:27<00:24,  9.89it/s]"
     ]
    },
    {
     "name": "stderr",
     "output_type": "stream",
     "text": [
      "\r",
      "Loss: 1.824533:  52%|█████████████████████████████████                               | 258/500 [00:27<00:24,  9.89it/s]"
     ]
    },
    {
     "name": "stderr",
     "output_type": "stream",
     "text": [
      "\r",
      "Loss: 1.836345:  52%|█████████████████████████████████                               | 258/500 [00:27<00:24,  9.89it/s]"
     ]
    },
    {
     "name": "stderr",
     "output_type": "stream",
     "text": [
      "\r",
      "Loss: 1.836345:  52%|█████████████████████████████████▎                              | 260/500 [00:27<00:23, 10.25it/s]"
     ]
    },
    {
     "name": "stderr",
     "output_type": "stream",
     "text": [
      "\r",
      "Loss: 1.851941:  52%|█████████████████████████████████▎                              | 260/500 [00:28<00:23, 10.25it/s]"
     ]
    },
    {
     "name": "stderr",
     "output_type": "stream",
     "text": [
      "\r",
      "Loss: 1.914108:  52%|█████████████████████████████████▎                              | 260/500 [00:28<00:23, 10.25it/s]"
     ]
    },
    {
     "name": "stderr",
     "output_type": "stream",
     "text": [
      "\r",
      "Loss: 1.914108:  52%|█████████████████████████████████▌                              | 262/500 [00:28<00:23, 10.21it/s]"
     ]
    },
    {
     "name": "stderr",
     "output_type": "stream",
     "text": [
      "\r",
      "Loss: 1.838865:  52%|█████████████████████████████████▌                              | 262/500 [00:28<00:23, 10.21it/s]"
     ]
    },
    {
     "name": "stderr",
     "output_type": "stream",
     "text": [
      "\r",
      "Loss: 1.860042:  52%|█████████████████████████████████▌                              | 262/500 [00:28<00:23, 10.21it/s]"
     ]
    },
    {
     "name": "stderr",
     "output_type": "stream",
     "text": [
      "\r",
      "Loss: 1.860042:  53%|█████████████████████████████████▊                              | 264/500 [00:28<00:23, 10.02it/s]"
     ]
    },
    {
     "name": "stderr",
     "output_type": "stream",
     "text": [
      "\r",
      "Loss: 1.848186:  53%|█████████████████████████████████▊                              | 264/500 [00:28<00:23, 10.02it/s]"
     ]
    },
    {
     "name": "stderr",
     "output_type": "stream",
     "text": [
      "\r",
      "Loss: 1.814414:  53%|█████████████████████████████████▊                              | 264/500 [00:28<00:23, 10.02it/s]"
     ]
    },
    {
     "name": "stderr",
     "output_type": "stream",
     "text": [
      "\r",
      "Loss: 1.814414:  53%|██████████████████████████████████                              | 266/500 [00:28<00:23,  9.80it/s]"
     ]
    },
    {
     "name": "stderr",
     "output_type": "stream",
     "text": [
      "\r",
      "Loss: 1.837877:  53%|██████████████████████████████████                              | 266/500 [00:28<00:23,  9.80it/s]"
     ]
    },
    {
     "name": "stderr",
     "output_type": "stream",
     "text": [
      "\r",
      "Loss: 1.837877:  53%|██████████████████████████████████▏                             | 267/500 [00:28<00:23,  9.81it/s]"
     ]
    },
    {
     "name": "stderr",
     "output_type": "stream",
     "text": [
      "\r",
      "Loss: 1.852042:  53%|██████████████████████████████████▏                             | 267/500 [00:28<00:23,  9.81it/s]"
     ]
    },
    {
     "name": "stderr",
     "output_type": "stream",
     "text": [
      "\r",
      "Loss: 1.852042:  54%|██████████████████████████████████▎                             | 268/500 [00:28<00:23,  9.77it/s]"
     ]
    },
    {
     "name": "stderr",
     "output_type": "stream",
     "text": [
      "\r",
      "Loss: 1.852042:  54%|██████████████████████████████████▎                             | 268/500 [00:28<00:24,  9.28it/s]"
     ]
    },
    {
     "name": "stderr",
     "output_type": "stream",
     "text": [
      "\n"
     ]
    },
    {
     "ename": "KeyboardInterrupt",
     "evalue": "",
     "output_type": "error",
     "traceback": [
      "\u001b[1;31m---------------------------------------------------------------------------\u001b[0m",
      "\u001b[1;31mKeyboardInterrupt\u001b[0m                         Traceback (most recent call last)",
      "Cell \u001b[1;32mIn [5], line 75\u001b[0m\n\u001b[0;32m     73\u001b[0m pbar \u001b[38;5;241m=\u001b[39m tqdm(\u001b[38;5;28mrange\u001b[39m(N_STEPS))\n\u001b[0;32m     74\u001b[0m \u001b[38;5;28;01mfor\u001b[39;00m step \u001b[38;5;129;01min\u001b[39;00m pbar:\n\u001b[1;32m---> 75\u001b[0m     x, y \u001b[38;5;241m=\u001b[39m \u001b[38;5;28mzip\u001b[39m(\u001b[38;5;241m*\u001b[39m[dataset[i] \u001b[38;5;28;01mfor\u001b[39;00m i \u001b[38;5;129;01min\u001b[39;00m np\u001b[38;5;241m.\u001b[39mrandom\u001b[38;5;241m.\u001b[39mrandint(\u001b[38;5;241m0\u001b[39m, DATA_SIZE, BATCH_SIZE)])\n\u001b[0;32m     76\u001b[0m     images \u001b[38;5;241m=\u001b[39m torch\u001b[38;5;241m.\u001b[39mstack(x)\u001b[38;5;241m.\u001b[39mcuda()\n\u001b[0;32m     77\u001b[0m     targets \u001b[38;5;241m=\u001b[39m torch\u001b[38;5;241m.\u001b[39mstack(y)\u001b[38;5;241m.\u001b[39mcuda()\n",
      "Cell \u001b[1;32mIn [5], line 75\u001b[0m, in \u001b[0;36m<listcomp>\u001b[1;34m(.0)\u001b[0m\n\u001b[0;32m     73\u001b[0m pbar \u001b[38;5;241m=\u001b[39m tqdm(\u001b[38;5;28mrange\u001b[39m(N_STEPS))\n\u001b[0;32m     74\u001b[0m \u001b[38;5;28;01mfor\u001b[39;00m step \u001b[38;5;129;01min\u001b[39;00m pbar:\n\u001b[1;32m---> 75\u001b[0m     x, y \u001b[38;5;241m=\u001b[39m \u001b[38;5;28mzip\u001b[39m(\u001b[38;5;241m*\u001b[39m[\u001b[43mdataset\u001b[49m\u001b[43m[\u001b[49m\u001b[43mi\u001b[49m\u001b[43m]\u001b[49m \u001b[38;5;28;01mfor\u001b[39;00m i \u001b[38;5;129;01min\u001b[39;00m np\u001b[38;5;241m.\u001b[39mrandom\u001b[38;5;241m.\u001b[39mrandint(\u001b[38;5;241m0\u001b[39m, DATA_SIZE, BATCH_SIZE)])\n\u001b[0;32m     76\u001b[0m     images \u001b[38;5;241m=\u001b[39m torch\u001b[38;5;241m.\u001b[39mstack(x)\u001b[38;5;241m.\u001b[39mcuda()\n\u001b[0;32m     77\u001b[0m     targets \u001b[38;5;241m=\u001b[39m torch\u001b[38;5;241m.\u001b[39mstack(y)\u001b[38;5;241m.\u001b[39mcuda()\n",
      "Cell \u001b[1;32mIn [5], line 46\u001b[0m, in \u001b[0;36mFaceDataset.__getitem__\u001b[1;34m(self, idx)\u001b[0m\n\u001b[0;32m     44\u001b[0m size \u001b[38;5;241m=\u001b[39m \u001b[38;5;241m128\u001b[39m\n\u001b[0;32m     45\u001b[0m image \u001b[38;5;241m=\u001b[39m Image\u001b[38;5;241m.\u001b[39mopen(path)\u001b[38;5;241m.\u001b[39mcrop([crop, crop, \u001b[38;5;241m250\u001b[39m \u001b[38;5;241m-\u001b[39m crop, \u001b[38;5;241m250\u001b[39m \u001b[38;5;241m-\u001b[39m crop])\u001b[38;5;241m.\u001b[39mresize((size, size), Image\u001b[38;5;241m.\u001b[39mResampling\u001b[38;5;241m.\u001b[39mBICUBIC)\n\u001b[1;32m---> 46\u001b[0m image \u001b[38;5;241m=\u001b[39m \u001b[38;5;28;43mself\u001b[39;49m\u001b[38;5;241;43m.\u001b[39;49m\u001b[43mtransform\u001b[49m\u001b[43m(\u001b[49m\u001b[43mimage\u001b[49m\u001b[43m)\u001b[49m\n\u001b[0;32m     47\u001b[0m \u001b[38;5;28;01mreturn\u001b[39;00m image, target\n",
      "File \u001b[1;32m~\\miniconda3\\lib\\site-packages\\torchvision\\transforms\\transforms.py:95\u001b[0m, in \u001b[0;36mCompose.__call__\u001b[1;34m(self, img)\u001b[0m\n\u001b[0;32m     93\u001b[0m \u001b[38;5;28;01mdef\u001b[39;00m \u001b[38;5;21m__call__\u001b[39m(\u001b[38;5;28mself\u001b[39m, img):\n\u001b[0;32m     94\u001b[0m     \u001b[38;5;28;01mfor\u001b[39;00m t \u001b[38;5;129;01min\u001b[39;00m \u001b[38;5;28mself\u001b[39m\u001b[38;5;241m.\u001b[39mtransforms:\n\u001b[1;32m---> 95\u001b[0m         img \u001b[38;5;241m=\u001b[39m \u001b[43mt\u001b[49m\u001b[43m(\u001b[49m\u001b[43mimg\u001b[49m\u001b[43m)\u001b[49m\n\u001b[0;32m     96\u001b[0m     \u001b[38;5;28;01mreturn\u001b[39;00m img\n",
      "File \u001b[1;32m~\\miniconda3\\lib\\site-packages\\torch\\nn\\modules\\module.py:1190\u001b[0m, in \u001b[0;36mModule._call_impl\u001b[1;34m(self, *input, **kwargs)\u001b[0m\n\u001b[0;32m   1186\u001b[0m \u001b[38;5;66;03m# If we don't have any hooks, we want to skip the rest of the logic in\u001b[39;00m\n\u001b[0;32m   1187\u001b[0m \u001b[38;5;66;03m# this function, and just call forward.\u001b[39;00m\n\u001b[0;32m   1188\u001b[0m \u001b[38;5;28;01mif\u001b[39;00m \u001b[38;5;129;01mnot\u001b[39;00m (\u001b[38;5;28mself\u001b[39m\u001b[38;5;241m.\u001b[39m_backward_hooks \u001b[38;5;129;01mor\u001b[39;00m \u001b[38;5;28mself\u001b[39m\u001b[38;5;241m.\u001b[39m_forward_hooks \u001b[38;5;129;01mor\u001b[39;00m \u001b[38;5;28mself\u001b[39m\u001b[38;5;241m.\u001b[39m_forward_pre_hooks \u001b[38;5;129;01mor\u001b[39;00m _global_backward_hooks\n\u001b[0;32m   1189\u001b[0m         \u001b[38;5;129;01mor\u001b[39;00m _global_forward_hooks \u001b[38;5;129;01mor\u001b[39;00m _global_forward_pre_hooks):\n\u001b[1;32m-> 1190\u001b[0m     \u001b[38;5;28;01mreturn\u001b[39;00m forward_call(\u001b[38;5;241m*\u001b[39m\u001b[38;5;28minput\u001b[39m, \u001b[38;5;241m*\u001b[39m\u001b[38;5;241m*\u001b[39mkwargs)\n\u001b[0;32m   1191\u001b[0m \u001b[38;5;66;03m# Do not call functions when jit is used\u001b[39;00m\n\u001b[0;32m   1192\u001b[0m full_backward_hooks, non_full_backward_hooks \u001b[38;5;241m=\u001b[39m [], []\n",
      "File \u001b[1;32m~\\miniconda3\\lib\\site-packages\\torchvision\\transforms\\transforms.py:270\u001b[0m, in \u001b[0;36mNormalize.forward\u001b[1;34m(self, tensor)\u001b[0m\n\u001b[0;32m    262\u001b[0m \u001b[38;5;28;01mdef\u001b[39;00m \u001b[38;5;21mforward\u001b[39m(\u001b[38;5;28mself\u001b[39m, tensor: Tensor) \u001b[38;5;241m-\u001b[39m\u001b[38;5;241m>\u001b[39m Tensor:\n\u001b[0;32m    263\u001b[0m     \u001b[38;5;124;03m\"\"\"\u001b[39;00m\n\u001b[0;32m    264\u001b[0m \u001b[38;5;124;03m    Args:\u001b[39;00m\n\u001b[0;32m    265\u001b[0m \u001b[38;5;124;03m        tensor (Tensor): Tensor image to be normalized.\u001b[39;00m\n\u001b[1;32m   (...)\u001b[0m\n\u001b[0;32m    268\u001b[0m \u001b[38;5;124;03m        Tensor: Normalized Tensor image.\u001b[39;00m\n\u001b[0;32m    269\u001b[0m \u001b[38;5;124;03m    \"\"\"\u001b[39;00m\n\u001b[1;32m--> 270\u001b[0m     \u001b[38;5;28;01mreturn\u001b[39;00m \u001b[43mF\u001b[49m\u001b[38;5;241;43m.\u001b[39;49m\u001b[43mnormalize\u001b[49m\u001b[43m(\u001b[49m\u001b[43mtensor\u001b[49m\u001b[43m,\u001b[49m\u001b[43m \u001b[49m\u001b[38;5;28;43mself\u001b[39;49m\u001b[38;5;241;43m.\u001b[39;49m\u001b[43mmean\u001b[49m\u001b[43m,\u001b[49m\u001b[43m \u001b[49m\u001b[38;5;28;43mself\u001b[39;49m\u001b[38;5;241;43m.\u001b[39;49m\u001b[43mstd\u001b[49m\u001b[43m,\u001b[49m\u001b[43m \u001b[49m\u001b[38;5;28;43mself\u001b[39;49m\u001b[38;5;241;43m.\u001b[39;49m\u001b[43minplace\u001b[49m\u001b[43m)\u001b[49m\n",
      "File \u001b[1;32m~\\miniconda3\\lib\\site-packages\\torchvision\\transforms\\functional.py:360\u001b[0m, in \u001b[0;36mnormalize\u001b[1;34m(tensor, mean, std, inplace)\u001b[0m\n\u001b[0;32m    357\u001b[0m \u001b[38;5;28;01mif\u001b[39;00m \u001b[38;5;129;01mnot\u001b[39;00m \u001b[38;5;28misinstance\u001b[39m(tensor, torch\u001b[38;5;241m.\u001b[39mTensor):\n\u001b[0;32m    358\u001b[0m     \u001b[38;5;28;01mraise\u001b[39;00m \u001b[38;5;167;01mTypeError\u001b[39;00m(\u001b[38;5;124mf\u001b[39m\u001b[38;5;124m\"\u001b[39m\u001b[38;5;124mimg should be Tensor Image. Got \u001b[39m\u001b[38;5;132;01m{\u001b[39;00m\u001b[38;5;28mtype\u001b[39m(tensor)\u001b[38;5;132;01m}\u001b[39;00m\u001b[38;5;124m\"\u001b[39m)\n\u001b[1;32m--> 360\u001b[0m \u001b[38;5;28;01mreturn\u001b[39;00m \u001b[43mF_t\u001b[49m\u001b[38;5;241;43m.\u001b[39;49m\u001b[43mnormalize\u001b[49m\u001b[43m(\u001b[49m\u001b[43mtensor\u001b[49m\u001b[43m,\u001b[49m\u001b[43m \u001b[49m\u001b[43mmean\u001b[49m\u001b[38;5;241;43m=\u001b[39;49m\u001b[43mmean\u001b[49m\u001b[43m,\u001b[49m\u001b[43m \u001b[49m\u001b[43mstd\u001b[49m\u001b[38;5;241;43m=\u001b[39;49m\u001b[43mstd\u001b[49m\u001b[43m,\u001b[49m\u001b[43m \u001b[49m\u001b[43minplace\u001b[49m\u001b[38;5;241;43m=\u001b[39;49m\u001b[43minplace\u001b[49m\u001b[43m)\u001b[49m\n",
      "File \u001b[1;32m~\\miniconda3\\lib\\site-packages\\torchvision\\transforms\\functional_tensor.py:940\u001b[0m, in \u001b[0;36mnormalize\u001b[1;34m(tensor, mean, std, inplace)\u001b[0m\n\u001b[0;32m    938\u001b[0m \u001b[38;5;28;01mif\u001b[39;00m std\u001b[38;5;241m.\u001b[39mndim \u001b[38;5;241m==\u001b[39m \u001b[38;5;241m1\u001b[39m:\n\u001b[0;32m    939\u001b[0m     std \u001b[38;5;241m=\u001b[39m std\u001b[38;5;241m.\u001b[39mview(\u001b[38;5;241m-\u001b[39m\u001b[38;5;241m1\u001b[39m, \u001b[38;5;241m1\u001b[39m, \u001b[38;5;241m1\u001b[39m)\n\u001b[1;32m--> 940\u001b[0m \u001b[38;5;28;01mreturn\u001b[39;00m \u001b[43mtensor\u001b[49m\u001b[38;5;241;43m.\u001b[39;49m\u001b[43msub_\u001b[49m\u001b[43m(\u001b[49m\u001b[43mmean\u001b[49m\u001b[43m)\u001b[49m\u001b[38;5;241;43m.\u001b[39;49m\u001b[43mdiv_\u001b[49m\u001b[43m(\u001b[49m\u001b[43mstd\u001b[49m\u001b[43m)\u001b[49m\n",
      "\u001b[1;31mKeyboardInterrupt\u001b[0m: "
     ]
    }
   ],
   "source": [
    "import random\n",
    "from tqdm import tqdm\n",
    "from pathlib import Path\n",
    "from itertools import groupby, chain\n",
    "\n",
    "from torch.utils.data import Dataset, DataLoader\n",
    "from torchvision import models\n",
    "from torchvision.transforms import ToTensor, Normalize, Compose\n",
    "\n",
    "\n",
    "random.seed(42)\n",
    "N_CLASSES = 10\n",
    "BATCH_SIZE = 32\n",
    "CLASS_SIZE = 50\n",
    "DATA_SIZE = CLASS_SIZE * N_CLASSES\n",
    "\n",
    "\n",
    "class FaceDataset(Dataset):\n",
    "    \n",
    "    def __init__(self, lfw_dir, eps = 1e-3):\n",
    "        datadir = Path(lfw_dir)\n",
    "        images = sorted(list(datadir.glob(\"*/*.jpg\")))\n",
    "        identities = groupby(images, key = lambda p: p.parent.name)\n",
    "        identities = map(lambda g: list(g[1]), identities)\n",
    "        identities = filter(lambda g: len(g) > 52, identities)\n",
    "        identities = list(identities)\n",
    "        identities = [random.sample(idt, CLASS_SIZE) for idt in identities[:N_CLASSES]]\n",
    "        \n",
    "        self.identities = sorted(chain(*identities))\n",
    "        self.targets = torch.repeat_interleave(torch.arange(N_CLASSES), CLASS_SIZE)\n",
    "        \n",
    "        self.transform = Compose([\n",
    "            ToTensor(),\n",
    "            Normalize([0.5, 0.5, 0.5], [0.5, 0.5, 0.5])\n",
    "        ])\n",
    "\n",
    "    def __len__(self):\n",
    "        return 2**32 - 1\n",
    "\n",
    "    def __getitem__(self, idx):\n",
    "        path = self.identities[idx]\n",
    "        target = self.targets[idx]\n",
    "        crop = 40\n",
    "        size = 128\n",
    "        image = Image.open(path).crop([crop, crop, 250 - crop, 250 - crop]).resize((size, size), Image.Resampling.BICUBIC)\n",
    "        image = self.transform(image)\n",
    "        return image, target\n",
    "    \n",
    "    \n",
    "class Model(torch.nn.Module):\n",
    "    def __init__(self, num_classes):\n",
    "        super().__init__()\n",
    "        self.backbone = models.resnet18(weights = models.ResNet18_Weights.DEFAULT)\n",
    "        in_features = self.backbone.fc.in_features\n",
    "        self.backbone.fc = torch.nn.Identity()\n",
    "        self.classifier = torch.nn.Linear(in_features, num_classes, bias = True)\n",
    "        torch.nn.init.kaiming_normal_(self.classifier.weight)\n",
    "        torch.nn.init.normal_(self.classifier.bias, std = 0.01)\n",
    "\n",
    "    def forward(self, x):\n",
    "        features = self.backbone(x)\n",
    "        embedding = self.classifier(features)\n",
    "        return embedding\n",
    "\n",
    "\n",
    "EMB_DIM = 3\n",
    "dataset = FaceDataset('../datasets/lfw/lfw_funneled/')\n",
    "backbone = Model(num_classes = EMB_DIM).cuda().train().requires_grad_(True)\n",
    "loss = AngularLoss(EMB_DIM, N_CLASSES, logits = \"simpleface\").cuda().train().requires_grad_(True)\n",
    "opt = torch.optim.Adam(list(backbone.parameters()) + list(loss.parameters()), lr = 1e-3)\n",
    "\n",
    "N_STEPS = 500\n",
    "pbar = tqdm(range(N_STEPS))\n",
    "for step in pbar:\n",
    "    x, y = zip(*[dataset[i] for i in np.random.randint(0, DATA_SIZE, BATCH_SIZE)])\n",
    "    images = torch.stack(x).cuda()\n",
    "    targets = torch.stack(y).cuda()\n",
    "    embedding = backbone(images)\n",
    "    ce = loss(embedding, targets, scale = 1)\n",
    "    \n",
    "    opt.zero_grad()\n",
    "    ce.backward()\n",
    "    opt.step()\n",
    "    \n",
    "    pbar.set_description(f\"Loss: {float(ce.detach().cpu()):.6f}\")"
   ]
  },
  {
   "cell_type": "code",
   "execution_count": 14,
   "id": "f57805fe",
   "metadata": {
    "scrolled": false,
    "tags": [
     "remove-cell"
    ]
   },
   "outputs": [],
   "source": [
    "# backbone.eval().requires_grad_(False)\n",
    "# embeddings = []\n",
    "# for i in range(DATA_SIZE):\n",
    "#     x, _ = dataset[i]\n",
    "#     x = x[None,...].cuda()\n",
    "#     emb = backbone(x)[0].detach().cpu().numpy()\n",
    "#     embeddings.append(emb)\n",
    "    \n",
    "# embeddings = np.stack(embeddings)\n",
    "# norm = np.linalg.norm(embeddings, axis = 1, keepdims = True)\n",
    "# Z = embeddings / norm\n",
    "# distances = np.dot(Z, Z.T)\n",
    "# plt.imshow(distances)"
   ]
  },
  {
   "cell_type": "code",
   "execution_count": 13,
   "id": "91f518c9",
   "metadata": {
    "tags": [
     "remove-cell"
    ]
   },
   "outputs": [
    {
     "data": {
      "image/png": "[encoded data removed]",
      "text/plain": [
       "<Figure size 400x400 with 1 Axes>"
      ]
     },
     "metadata": {
      "filenames": {
       "image/png": "C:\\Users\\dmtle\\Projects\\neural-pasta\\_build\\jupyter_execute\\5_from_arcface_to_simpleface_14_0.png"
      }
     },
     "output_type": "display_data"
    }
   ],
   "source": [
    "# plt.figure(figsize = (4,4))\n",
    "\n",
    "# plt.title(f'SimpleFace - {N_STEPS} Iter')\n",
    "# plt.scatter(Z[:,0], Z[:,1], c = dataset.targets, alpha = 0.1)\n",
    "# plt.xlim(-1.1, 1.1)\n",
    "# plt.ylim(-1.1, 1.1)\n",
    "# plt.xticks([-1, -0.5, 0, 0.5, 1])\n",
    "# plt.yticks([-1, -0.5, 0, 0.5, 1]);"
   ]
  }
 ],
 "metadata": {
  "celltoolbar": "Tags",
  "kernelspec": {
   "display_name": "Python 3 (ipykernel)",
   "language": "python",
   "name": "python3"
  },
  "language_info": {
   "codemirror_mode": {
    "name": "ipython",
    "version": 3
   },
   "file_extension": ".py",
   "mimetype": "text/x-python",
   "name": "python",
   "nbconvert_exporter": "python",
   "pygments_lexer": "ipython3",
   "version": "3.9.12"
  }
 },
 "nbformat": 4,
 "nbformat_minor": 5
}